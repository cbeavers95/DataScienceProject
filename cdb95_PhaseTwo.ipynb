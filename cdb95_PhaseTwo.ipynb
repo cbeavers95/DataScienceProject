{
 "cells": [
  {
   "cell_type": "code",
   "execution_count": 1,
   "metadata": {},
   "outputs": [
    {
     "name": "stdout",
     "output_type": "stream",
     "text": [
      "Collecting package metadata (repodata.json): done\n",
      "Solving environment: done\n",
      "\n",
      "# All requested packages already installed.\n",
      "\n",
      "Collecting package metadata (repodata.json): done\n",
      "Solving environment: done\n",
      "\n",
      "# All requested packages already installed.\n",
      "\n",
      "Collecting package metadata (repodata.json): done\n",
      "Solving environment: done\n",
      "\n",
      "# All requested packages already installed.\n",
      "\n",
      "\u001b[33mWARNING: The directory '/Users/cbeavers218/Library/Caches/pip/http' or its parent directory is not owned by the current user and the cache has been disabled. Please check the permissions and owner of that directory. If executing pip with sudo, you may want sudo's -H flag.\u001b[0m\n",
      "\u001b[33mWARNING: The directory '/Users/cbeavers218/Library/Caches/pip' or its parent directory is not owned by the current user and caching wheels has been disabled. check the permissions and owner of that directory. If executing pip with sudo, you may want sudo's -H flag.\u001b[0m\n",
      "Requirement already satisfied: bs4 in /Users/cbeavers218/anaconda3/lib/python3.6/site-packages (0.0.1)\n",
      "Requirement already satisfied: beautifulsoup4 in /Users/cbeavers218/anaconda3/lib/python3.6/site-packages (from bs4) (4.9.0)\n",
      "Requirement already satisfied: soupsieve>1.2 in /Users/cbeavers218/anaconda3/lib/python3.6/site-packages (from beautifulsoup4->bs4) (1.9.5)\n",
      "\u001b[33mWARNING: You are using pip version 19.2.3, however version 20.1 is available.\n",
      "You should consider upgrading via the 'pip install --upgrade pip' command.\u001b[0m\n",
      "\u001b[33mWARNING: The directory '/Users/cbeavers218/Library/Caches/pip/http' or its parent directory is not owned by the current user and the cache has been disabled. Please check the permissions and owner of that directory. If executing pip with sudo, you may want sudo's -H flag.\u001b[0m\n",
      "\u001b[33mWARNING: The directory '/Users/cbeavers218/Library/Caches/pip' or its parent directory is not owned by the current user and caching wheels has been disabled. check the permissions and owner of that directory. If executing pip with sudo, you may want sudo's -H flag.\u001b[0m\n",
      "Requirement already satisfied: lxml in /Users/cbeavers218/anaconda3/lib/python3.6/site-packages (4.3.0)\n",
      "\u001b[33mWARNING: You are using pip version 19.2.3, however version 20.1 is available.\n",
      "You should consider upgrading via the 'pip install --upgrade pip' command.\u001b[0m\n"
     ]
    }
   ],
   "source": [
    "import sys\n",
    "!conda install --yes --prefix {sys.prefix} requests\n",
    "!conda install --yes --prefix {sys.prefix} bs4\n",
    "!conda install --yes --prefix {sys.prefix} lxml\n",
    "!{sys.executable} -m pip install bs4\n",
    "!{sys.executable} -m pip install lxml"
   ]
  },
  {
   "cell_type": "code",
   "execution_count": 2,
   "metadata": {},
   "outputs": [],
   "source": [
    "import requests \n",
    "from bs4 import BeautifulSoup\n",
    "import re"
   ]
  },
  {
   "cell_type": "code",
   "execution_count": 3,
   "metadata": {},
   "outputs": [],
   "source": [
    "url = \"https://www.iihs.org/topics/fatality-statistics/detail/yearly-snapshot\"\n",
    "html = requests.get(url).content\n",
    "# print(html)\n",
    "soup = BeautifulSoup(html, 'lxml')\n",
    "\n",
    " \n"
   ]
  },
  {
   "cell_type": "code",
   "execution_count": 4,
   "metadata": {},
   "outputs": [],
   "source": [
    "with open(\"car_crashes.htm\") as file_reader:\n",
    "    soup = BeautifulSoup(file_reader, \"lxml\")"
   ]
  },
  {
   "cell_type": "code",
   "execution_count": 5,
   "metadata": {},
   "outputs": [
    {
     "name": "stdout",
     "output_type": "stream",
     "text": [
      "Number of deaths, crashes and motor vehicles in fatal crashes, 1975-2018\n"
     ]
    }
   ],
   "source": [
    "title = print(soup.find(\"th\").get_text())\n",
    "title"
   ]
  },
  {
   "cell_type": "code",
   "execution_count": 6,
   "metadata": {},
   "outputs": [],
   "source": [
    "table_heads = (soup.find_all(\"th\"))\n",
    "# table_heads "
   ]
  },
  {
   "cell_type": "code",
   "execution_count": 7,
   "metadata": {},
   "outputs": [
    {
     "name": "stdout",
     "output_type": "stream",
     "text": [
      "['Motor vehicle crash deaths per 100,000 people by type, 1975-2018', 'Year', 'Population', 'Passenger vehicle occupants', 'Pedestrians', 'Motorcyclists', 'Bicyclists', 'Large truck occupants', 'All motor vehicle deaths*']\n",
      "['1975', '1976', '1977', '1978', '1979', '1980', '1981', '1982', '1983', '1984', '1985', '1986', '1987', '1988', '1989', '1990', '1991', '1992', '1993', '1994', '1995', '1996', '1997', '1998', '1999', '2000', '2001', '2002', '2003', '2004', '2005', '2006', '2007', '2008', '2009', '2010', '2011', '2012', '2013', '2014', '2015', '2016', '2017', '2018']\n"
     ]
    }
   ],
   "source": [
    "# print(table_heads[0])\n",
    "\n",
    "# This function is to convert each element inside of the list into a string, so that titles of tables may more\n",
    "#easily be found and re can be used\n",
    "def toString(array):\n",
    "    new_array = []\n",
    "    for i in array:\n",
    "        new_array.append(str(i))\n",
    "    return new_array\n",
    "\n",
    "table_heads_str = toString(table_heads)\n",
    "# This is testing to confirm the conversion was a success \n",
    "\n",
    "#This isolates the names of the columns and rows of the data I am focusing on.\n",
    "dataTop = table_heads_str.index('<th class=\"table-title\" colspan=\"14\">Motor vehicle crash deaths per 100,000 people by type, 1975-2018</th>')\n",
    "dataBottom = table_heads_str.index('<th class=\"table-title\" colspan=\"14\">Motor vehicle crash deaths by type, 1975-2018</th>')\n",
    "table_heads_str = table_heads_str[dataTop:dataBottom]\n",
    "# print(table_heads_str)\n",
    "\n",
    "\n",
    "# This gets all of the isolated names of the columns and rows \n",
    "def getInfo(str_list):\n",
    "    info = []\n",
    "    for i in str_list:\n",
    "        first = i.index('>')\n",
    "        last = i.index('</th>')\n",
    "        info.append(i[first+1:last])\n",
    "    return info\n",
    "\n",
    "data_titles = getInfo(table_heads_str)\n",
    "# print(data_titles)\n",
    "\n",
    "#Index and remove all of the rates. only keep numbers\n",
    "for x in data_titles: \n",
    "    if x == \"Rate\":\n",
    "        data_titles.remove(x)\n",
    "        \n",
    "# print(\"here\")\n",
    "# for x in data_titles: \n",
    "#     if x == 'Number':\n",
    "#         data_titles.remove(x)\n",
    "        \n",
    "# print(data_titles)\n",
    "\n",
    "        \n",
    "def new_data_titles(arry):\n",
    "    new_data_titles = []\n",
    "    for title in data_titles:\n",
    "        if title != \"Number\":\n",
    "            new_data_titles.append(title)\n",
    "    return new_data_titles\n",
    "\n",
    "data_titles = new_data_titles(data_titles)\n",
    "# data_titles\n",
    "\n",
    "column_titles = data_titles[:9]\n",
    "row_titles = data_titles[9:]\n",
    "print(column_titles)\n",
    "print(row_titles)\n"
   ]
  },
  {
   "cell_type": "code",
   "execution_count": 8,
   "metadata": {},
   "outputs": [
    {
     "name": "stdout",
     "output_type": "stream",
     "text": [
      "[[215973199, 218035164, 220239425, 222584545, 225055487, 227224719, 229465608, 231664496, 233791903, 235824783, 237923732, 240132841, 242289023, 244498836, 246819119, 249464396, 252153092, 255029699, 257782608, 260327021, 262803276, 265228572, 267783607, 270248003, 272690813, 282192162, 285102075, 287941220, 290788976, 293655404, 296410404, 299398484, 301621157, 304059724, 307006550, 308745538, 311591917, 313914040, 316128839, 318857056, 321418820, 323405935, 325719178, 327167434], [30601, 31724, 32823, 34923, 35026, 34996, 33711, 29656, 29154, 30094, 29848, 32224, 33145, 34105, 33599, 32711, 30810, 29457, 29994, 30820, 31914, 32354, 32343, 31781, 32008, 32109, 31938, 32724, 32166, 31750, 31455, 30628, 29155, 25547, 23507, 22351, 21413, 21906, 21361, 21131, 22741, 23957, 23866, 22891], [7516, 7427, 7732, 7795, 8096, 8070, 7837, 7331, 6826, 7025, 6808, 6779, 6745, 6870, 6556, 6482, 5801, 5549, 5649, 5489, 5584, 5449, 5321, 5228, 4939, 4763, 4901, 4851, 4774, 4675, 4892, 4795, 4699, 4414, 4109, 4302, 4457, 4818, 4779, 4910, 5495, 6080, 6075, 6283], [3180, 3306, 4099, 4574, 4892, 5138, 4896, 4449, 4260, 4602, 4562, 4566, 4034, 3661, 3135, 3243, 2805, 2395, 2445, 2317, 2226, 2161, 2116, 2294, 2483, 2895, 3195, 3267, 3710, 4026, 4575, 4810, 5174, 5307, 4467, 4517, 4630, 4986, 4691, 4302, 5026, 5337, 5229, 4985], [1003, 914, 922, 892, 932, 965, 936, 864, 830, 838, 869, 929, 940, 901, 822, 853, 836, 717, 806, 796, 828, 761, 811, 757, 750, 689, 729, 663, 626, 722, 784, 769, 699, 716, 628, 621, 680, 730, 747, 723, 828, 848, 800, 854], [916, 1100, 1229, 1315, 1372, 1183, 1082, 917, 960, 1040, 941, 892, 821, 886, 822, 684, 650, 580, 590, 658, 634, 602, 717, 739, 747, 737, 691, 675, 703, 743, 758, 774, 745, 615, 449, 475, 555, 590, 589, 585, 598, 662, 680, 678], [44525, 45523, 47878, 50331, 51093, 51091, 49301, 43945, 42589, 44257, 43825, 46087, 46390, 47087, 45582, 44599, 41508, 39250, 40150, 40716, 41817, 42065, 42013, 41501, 41717, 41945, 42196, 43005, 42884, 42836, 43510, 42708, 41259, 37423, 33883, 32999, 32479, 33782, 32894, 32744, 35485, 37806, 37473, 36560]]\n"
     ]
    }
   ],
   "source": [
    "table_rows1 = (soup.find_all(\"tr\"))\n",
    "table_rows1 = table_rows1[46:93]\n",
    "\n",
    "def extract_number(arry):\n",
    "    storage = []\n",
    "    for item in arry:\n",
    "        new_item = []\n",
    "        item = str(item)\n",
    "        item = item.replace(',', '')\n",
    "        item = re.findall(r'\\d+', item) \n",
    "        storage.append(item)\n",
    "    return storage\n",
    "        \n",
    "extracted = extract_number(table_rows1)\n",
    "\n",
    "# This function removes the numbers that are not apart of the data, such as row numbers and column numbers \n",
    "def remove_single_nums(arry):\n",
    "    extracted_nums = []\n",
    "    for num in arry:\n",
    "        for i in num:\n",
    "            if len(i) >= 3:\n",
    "                extracted_nums.append(int(i))\n",
    "    return extracted_nums\n",
    "items = remove_single_nums(extracted)\n",
    "items = items[3:]\n",
    "items\n",
    "\n",
    "#This function sorts the data by group\n",
    "# I referred to geeksforgeeks.org for syntax to write this function\n",
    "def separate(l, n): \n",
    "    for i in range(0, len(l), n):  \n",
    "        yield l[i:i + n] \n",
    "sorted = list(separate(items, 8)) \n",
    "# print(sorted) \n",
    "\n",
    "\n",
    "# This function sorts all of the information by column for each year\n",
    "def organize_columns(info):\n",
    "    population = []\n",
    "    passenger = []\n",
    "    pedestrians = []\n",
    "    motorcycle = []\n",
    "    bike = []\n",
    "    truck = []\n",
    "    all_deaths = []\n",
    "    for year in info:\n",
    "        population.append(year[1])\n",
    "        passenger.append(year[2])\n",
    "        pedestrians.append(year[3])\n",
    "        motorcycle.append(year[4])\n",
    "        bike.append(year[5])\n",
    "        truck.append(year[6])\n",
    "        all_deaths.append(year[7])\n",
    "    return [population, passenger, pedestrians, motorcycle, bike, truck, all_deaths]\n",
    "        \n",
    "col_info = organize_columns(sorted)  \n",
    "print(col_info)\n",
    "\n",
    "population = col_info[0]\n",
    "passenger = col_info[1]\n",
    "pedestrians = col_info[2]\n",
    "motorcycle = col_info[3]\n",
    "bike = col_info[4]\n",
    "truck = col_info[5]\n",
    "all_deaths = col_info[6]\n",
    "\n",
    "    "
   ]
  },
  {
   "cell_type": "code",
   "execution_count": 9,
   "metadata": {},
   "outputs": [],
   "source": [
    "with open(\"gas_prices.html\") as file_reader:\n",
    "    soup2 = BeautifulSoup(file_reader, \"lxml\")"
   ]
  },
  {
   "cell_type": "code",
   "execution_count": 10,
   "metadata": {},
   "outputs": [
    {
     "name": "stdout",
     "output_type": "stream",
     "text": [
      "Year-Month\n"
     ]
    }
   ],
   "source": [
    "title2 = print(soup2.find(\"th\").get_text())\n",
    "title2"
   ]
  },
  {
   "cell_type": "code",
   "execution_count": 11,
   "metadata": {},
   "outputs": [],
   "source": [
    "table_heads = (soup2.find_all(\"th\"))\n",
    "# table_heads "
   ]
  },
  {
   "cell_type": "code",
   "execution_count": 12,
   "metadata": {},
   "outputs": [
    {
     "name": "stdout",
     "output_type": "stream",
     "text": [
      "['Year-Month', 'Week 1', 'Week 2', 'Week 3', 'Week 4']\n"
     ]
    }
   ],
   "source": [
    "# This function retreives the names of the column titles\n",
    "gas_data_col_titles = toString(table_heads)\n",
    "gas_data_col_titles = getInfo(gas_data_col_titles)\n",
    "gas_data_col_titles.remove('Week 5')\n",
    "# print(gas_data_col_titles)\n",
    "\n",
    "for x in gas_data_col_titles:\n",
    "    if x == 'End Date':\n",
    "        gas_data_col_titles.remove(x)\n",
    "for y in gas_data_col_titles:\n",
    "        if y == 'Value':\n",
    "            gas_data_col_titles.remove(y)\n",
    "gas_data_col_titles = gas_data_col_titles[0:5]\n",
    "print(gas_data_col_titles)\n",
    "\n"
   ]
  },
  {
   "cell_type": "code",
   "execution_count": 13,
   "metadata": {},
   "outputs": [
    {
     "name": "stdout",
     "output_type": "stream",
     "text": [
      "['1993-Apr', '1993-May', '1993-Jun', '1993-Jul', '1993-Aug', '1993-Sep', '1993-Oct', '1993-Nov', '1993-Dec', '1994-Jan', '1994-Feb', '1994-Mar', '1994-Apr', '1994-May', '1994-Jun', '1994-Jul', '1994-Aug', '1994-Sep', '1994-Oct', '1994-Nov', '1994-Dec', '1995-Jan', '1995-Feb', '1995-Mar', '1995-Apr', '1995-May', '1995-Jun', '1995-Jul', '1995-Aug', '1995-Sep', '1995-Oct', '1995-Nov', '1995-Dec', '1996-Jan', '1996-Feb', '1996-Mar', '1996-Apr', '1996-May', '1996-Jun', '1996-Jul', '1996-Aug', '1996-Sep', '1996-Oct', '1996-Nov', '1996-Dec', '1997-Jan', '1997-Feb', '1997-Mar', '1997-Apr', '1997-May', '1997-Jun', '1997-Jul', '1997-Aug', '1997-Sep', '1997-Oct', '1997-Nov', '1997-Dec', '1998-Jan', '1998-Feb', '1998-Mar', '1998-Apr', '1998-May', '1998-Jun', '1998-Jul', '1998-Aug', '1998-Sep', '1998-Oct', '1998-Nov', '1998-Dec', '1999-Jan', '1999-Feb', '1999-Mar', '1999-Apr', '1999-May', '1999-Jun', '1999-Jul', '1999-Aug', '1999-Sep', '1999-Oct', '1999-Nov', '1999-Dec', '2000-Jan', '2000-Feb', '2000-Mar', '2000-Apr', '2000-May', '2000-Jun', '2000-Jul', '2000-Aug', '2000-Sep', '2000-Oct', '2000-Nov', '2000-Dec', '2001-Jan', '2001-Feb', '2001-Mar', '2001-Apr', '2001-May', '2001-Jun', '2001-Jul', '2001-Aug', '2001-Sep', '2001-Oct', '2001-Nov', '2001-Dec', '2002-Jan', '2002-Feb', '2002-Mar', '2002-Apr', '2002-May', '2002-Jun', '2002-Jul', '2002-Aug', '2002-Sep', '2002-Oct', '2002-Nov', '2002-Dec', '2003-Jan', '2003-Feb', '2003-Mar', '2003-Apr', '2003-May', '2003-Jun', '2003-Jul', '2003-Aug', '2003-Sep', '2003-Oct', '2003-Nov', '2003-Dec', '2004-Jan', '2004-Feb', '2004-Mar', '2004-Apr', '2004-May', '2004-Jun', '2004-Jul', '2004-Aug', '2004-Sep', '2004-Oct', '2004-Nov', '2004-Dec', '2005-Jan', '2005-Feb', '2005-Mar', '2005-Apr', '2005-May', '2005-Jun', '2005-Jul', '2005-Aug', '2005-Sep', '2005-Oct', '2005-Nov', '2005-Dec', '2006-Jan', '2006-Feb', '2006-Mar', '2006-Apr', '2006-May', '2006-Jun', '2006-Jul', '2006-Aug', '2006-Sep', '2006-Oct', '2006-Nov', '2006-Dec', '2007-Jan', '2007-Feb', '2007-Mar', '2007-Apr', '2007-May', '2007-Jun', '2007-Jul', '2007-Aug', '2007-Sep', '2007-Oct', '2007-Nov', '2007-Dec', '2008-Jan', '2008-Feb', '2008-Mar', '2008-Apr', '2008-May', '2008-Jun', '2008-Jul', '2008-Aug', '2008-Sep', '2008-Oct', '2008-Nov', '2008-Dec', '2009-Jan', '2009-Feb', '2009-Mar', '2009-Apr', '2009-May', '2009-Jun', '2009-Jul', '2009-Aug', '2009-Sep', '2009-Oct', '2009-Nov', '2009-Dec', '2010-Jan', '2010-Feb', '2010-Mar', '2010-Apr', '2010-May', '2010-Jun', '2010-Jul', '2010-Aug', '2010-Sep', '2010-Oct', '2010-Nov', '2010-Dec', '2011-Jan', '2011-Feb', '2011-Mar', '2011-Apr', '2011-May', '2011-Jun', '2011-Jul', '2011-Aug', '2011-Sep', '2011-Oct', '2011-Nov', '2011-Dec', '2012-Jan', '2012-Feb', '2012-Mar', '2012-Apr', '2012-May', '2012-Jun', '2012-Jul', '2012-Aug', '2012-Sep', '2012-Oct', '2012-Nov', '2012-Dec', '2013-Jan', '2013-Feb', '2013-Mar', '2013-Apr', '2013-May', '2013-Jun', '2013-Jul', '2013-Aug', '2013-Sep', '2013-Oct', '2013-Nov', '2013-Dec', '2014-Jan', '2014-Feb', '2014-Mar', '2014-Apr', '2014-May', '2014-Jun', '2014-Jul', '2014-Aug', '2014-Sep', '2014-Oct', '2014-Nov', '2014-Dec', '2015-Jan', '2015-Feb', '2015-Mar', '2015-Apr', '2015-May', '2015-Jun', '2015-Jul', '2015-Aug', '2015-Sep', '2015-Oct', '2015-Nov', '2015-Dec', '2016-Jan', '2016-Feb', '2016-Mar', '2016-Apr', '2016-May', '2016-Jun', '2016-Jul', '2016-Aug', '2016-Sep', '2016-Oct', '2016-Nov', '2016-Dec', '2017-Jan', '2017-Feb', '2017-Mar', '2017-Apr', '2017-May', '2017-Jun', '2017-Jul', '2017-Aug', '2017-Sep', '2017-Oct', '2017-Nov', '2017-Dec', '2018-Jan', '2018-Feb', '2018-Mar', '2018-Apr', '2018-May', '2018-Jun', '2018-Jul', '2018-Aug', '2018-Sep', '2018-Oct', '2018-Nov', '2018-Dec', '2019-Jan', '2019-Feb', '2019-Mar', '2019-Apr', '2019-May', '2019-Jun', '2019-Jul', '2019-Aug', '2019-Sep', '2019-Oct', '2019-Nov', '2019-Dec', '2020-Jan', '2020-Feb', '2020-Mar', '2020-Apr']\n",
      "[1.068, 1.079, 1.079, 1.086, 1.086, 1.097, 1.106, 1.106, 1.107, 1.104, 1.101, 1.095, 1.089, 1.086, 1.081, 1.075, 1.069, 1.062, 1.06, 1.059, 1.065, 1.062, 1.055, 1.051, 1.045, 1.047, 1.092, 1.09, 1.093, 1.092, 1.084, 1.075, 1.064, 1.058, 1.051, 1.036, 1.018, 1.003, 0.999, 0.992, 0.995, 1.001, 0.999, 1.005, 1.007, 1.016, 1.009, 1.004, 1.007, 1.005, 1.007, 1.012, 1.011, 1.028, 1.033, 1.037, 1.04, 1.045, 1.046, 1.05, 1.056, 1.065, 1.073, 1.079, 1.095, 1.097, 1.103, 1.109, 1.114, 1.13, 1.157, 1.161, 1.165, 1.161, 1.156, 1.15, 1.14, 1.129, 1.12, 1.114, 1.106, 1.107, 1.121, 1.123, 1.122, 1.113, 1.117, 1.127, 1.131, 1.134, 1.125, 1.127, 1.134, 1.126, 1.132, 1.131, 1.124, 1.121, 1.115, 1.121, 1.123, 1.116, 1.114, 1.121, 1.133, 1.149, 1.163, 1.184, 1.194, 1.216, 1.226, 1.244, 1.246, 1.246, 1.243, 1.236, 1.229, 1.222, 1.212, 1.2, 1.191, 1.179, 1.174, 1.172, 1.171, 1.163, 1.16, 1.158, 1.157, 1.156, 1.151, 1.144, 1.133, 1.125, 1.115, 1.112, 1.109, 1.106, 1.107, 1.108, 1.11, 1.124, 1.128, 1.129, 1.139, 1.145, 1.138, 1.133, 1.13, 1.126, 1.133, 1.153, 1.17, 1.171, 1.181, 1.21, 1.223, 1.248, 1.287, 1.301, 1.318, 1.321, 1.323, 1.33, 1.321, 1.315, 1.307, 1.302, 1.289, 1.279, 1.276, 1.273, 1.272, 1.263, 1.253, 1.248, 1.249, 1.253, 1.242, 1.247, 1.25, 1.251, 1.245, 1.239, 1.248, 1.249, 1.26, 1.268, 1.272, 1.282, 1.289, 1.287, 1.287, 1.283, 1.278, 1.274, 1.272, 1.287, 1.287, 1.284, 1.282, 1.28, 1.273, 1.27, 1.261, 1.253, 1.246, 1.25, 1.246, 1.248, 1.244, 1.245, 1.24, 1.238, 1.238, 1.247, 1.255, 1.258, 1.251, 1.242, 1.232, 1.226, 1.222, 1.219, 1.222, 1.216, 1.237, 1.272, 1.274, 1.288, 1.287, 1.288, 1.281, 1.269, 1.255, 1.254, 1.248, 1.238, 1.228, 1.221, 1.222, 1.213, 1.207, 1.197, 1.187, 1.176, 1.167, 1.158, 1.148, 1.14, 1.129, 1.112, 1.108, 1.101, 1.085, 1.09, 1.075, 1.065, 1.055, 1.047, 1.077, 1.074, 1.072, 1.075, 1.086, 1.095, 1.109, 1.109, 1.108, 1.104, 1.113, 1.104, 1.096, 1.096, 1.097, 1.092, 1.097, 1.088, 1.077, 1.072, 1.065, 1.058, 1.053, 1.046, 1.042, 1.053, 1.053, 1.059, 1.063, 1.058, 1.055, 1.05, 1.048, 1.037, 1.03, 1.015, 0.996, 0.987, 0.986, 0.979, 0.977, 0.982, 0.985, 0.977, 0.971, 0.968, 0.96, 0.949, 0.955, 0.963, 1.017, 1.056, 1.121, 1.158, 1.179, 1.175, 1.171, 1.176, 1.18, 1.18, 1.166, 1.151, 1.152, 1.148, 1.163, 1.153, 1.165, 1.182, 1.208, 1.232, 1.234, 1.246, 1.275, 1.273, 1.273, 1.282, 1.29, 1.307, 1.302, 1.296, 1.29, 1.277, 1.277, 1.271, 1.274, 1.292, 1.309, 1.315, 1.313, 1.315, 1.31, 1.314, 1.312, 1.304, 1.318, 1.354, 1.355, 1.364, 1.394, 1.443, 1.458, 1.539, 1.566, 1.569, 1.549, 1.543, 1.516, 1.486, 1.478, 1.461, 1.495, 1.531, 1.566, 1.579, 1.599, 1.664, 1.711, 1.691, 1.661, 1.63, 1.586, 1.562, 1.514, 1.504, 1.489, 1.508, 1.521, 1.568, 1.598, 1.599, 1.586, 1.563, 1.541, 1.578, 1.588, 1.584, 1.565, 1.562, 1.55, 1.549, 1.526, 1.49, 1.462, 1.453, 1.446, 1.465, 1.513, 1.511, 1.5, 1.483, 1.515, 1.489, 1.471, 1.457, 1.453, 1.444, 1.445, 1.482, 1.54, 1.61, 1.658, 1.665, 1.739, 1.748, 1.724, 1.739, 1.715, 1.688, 1.644, 1.583, 1.52, 1.484, 1.459, 1.44, 1.428, 1.419, 1.434, 1.467, 1.523, 1.579, 1.562, 1.564, 1.522, 1.455, 1.393, 1.351, 1.307, 1.277, 1.249, 1.224, 1.208, 1.168, 1.149, 1.136, 1.101, 1.113, 1.137, 1.152, 1.152, 1.146, 1.142, 1.157, 1.148, 1.157, 1.157, 1.185, 1.262, 1.328, 1.382, 1.412, 1.454, 1.446, 1.446, 1.435, 1.437, 1.431, 1.439, 1.429, 1.433, 1.417, 1.419, 1.425, 1.433, 1.423, 1.435, 1.451, 1.447, 1.437, 1.435, 1.434, 1.444, 1.436, 1.437, 1.442, 1.436, 1.455, 1.48, 1.481, 1.499, 1.485, 1.489, 1.48, 1.451, 1.423, 1.408, 1.404, 1.407, 1.443, 1.484, 1.487, 1.496, 1.502, 1.515, 1.569, 1.649, 1.701, 1.699, 1.726, 1.752, 1.768, 1.732, 1.692, 1.673, 1.639, 1.618, 1.6, 1.556, 1.534, 1.539, 1.528, 1.514, 1.53, 1.558, 1.537, 1.528, 1.53, 1.563, 1.566, 1.558, 1.576, 1.611, 1.668, 1.787, 1.786, 1.758, 1.739, 1.686, 1.635, 1.617, 1.611, 1.612, 1.584, 1.577, 1.547, 1.54, 1.554, 1.533, 1.519, 1.509, 1.528, 1.521, 1.552, 1.603, 1.637, 1.664, 1.66, 1.681, 1.69, 1.73, 1.758, 1.78, 1.767, 1.785, 1.8, 1.822, 1.827, 1.853, 1.853, 1.884, 1.979, 2.055, 2.104, 2.092, 2.075, 2.029, 1.981, 1.965, 1.939, 1.959, 1.971, 1.948, 1.93, 1.92, 1.917, 1.926, 1.909, 1.893, 1.889, 1.908, 1.959, 1.98, 2.035, 2.077, 2.074, 2.076, 2.045, 2.014, 1.992, 1.989, 1.956, 1.893, 1.861, 1.838, 1.824, 1.837, 1.863, 1.896, 1.953, 1.952, 1.941, 1.948, 1.969, 2.04, 2.098, 2.149, 2.194, 2.258, 2.321, 2.28, 2.279, 2.277, 2.231, 2.206, 2.169, 2.141, 2.159, 2.173, 2.204, 2.257, 2.268, 2.369, 2.36, 2.333, 2.335, 2.41, 2.592, 2.654, 2.653, 3.117, 3.002, 2.835, 2.851, 2.975, 2.896, 2.775, 2.652, 2.528, 2.424, 2.342, 2.247, 2.2, 2.191, 2.228, 2.255, 2.241, 2.281, 2.371, 2.366, 2.382, 2.402, 2.388, 2.331, 2.286, 2.298, 2.373, 2.408, 2.548, 2.542, 2.631, 2.727, 2.828, 2.96, 2.966, 2.955, 2.992, 2.938, 2.913, 2.937, 2.951, 2.917, 2.914, 2.979, 3.017, 3.033, 3.048, 3.05, 3.083, 3.047, 2.971, 2.893, 2.777, 2.67, 2.549, 2.429, 2.36, 2.31, 2.274, 2.255, 2.264, 2.246, 2.278, 2.285, 2.292, 2.342, 2.34, 2.366, 2.387, 2.382, 2.354, 2.28, 2.216, 2.213, 2.237, 2.287, 2.341, 2.428, 2.551, 2.605, 2.623, 2.655, 2.753, 2.848, 2.922, 2.917, 3.017, 3.097, 3.143, 3.258, 3.25, 3.2, 3.122, 3.057, 3.029, 3.005, 3.026, 3.092, 3.005, 2.926, 2.888, 2.821, 2.832, 2.796, 2.84, 2.862, 2.835, 2.86, 2.838, 2.821, 2.813, 2.873, 2.921, 3.06, 3.158, 3.148, 3.147, 3.113, 3.053, 3.05, 3.032, 3.104, 3.159, 3.119, 3.07, 3.03, 3.03, 3.011, 3.092, 3.18, 3.212, 3.273, 3.332, 3.31, 3.339, 3.381, 3.438, 3.557, 3.653, 3.663, 3.771, 3.84, 3.986, 4.026, 4.09, 4.134, 4.131, 4.146, 4.165, 4.164, 4.118, 4.01, 3.935, 3.864, 3.794, 3.738, 3.733, 3.701, 3.887, 3.772, 3.687, 3.543, 3.213, 2.974, 2.718, 2.462, 2.284, 2.132, 1.952, 1.87, 1.758, 1.716, 1.71, 1.67, 1.737, 1.835, 1.898, 1.89, 1.944, 1.978, 2.016, 1.963, 1.988, 1.993, 1.964, 2.014, 2.097, 2.09, 2.104, 2.112, 2.102, 2.129, 2.29, 2.36, 2.485, 2.572, 2.673, 2.722, 2.743, 2.695, 2.666, 2.584, 2.519, 2.557, 2.61, 2.7, 2.691, 2.682, 2.667, 2.642, 2.632, 2.607, 2.554, 2.523, 2.543, 2.626, 2.727, 2.746, 2.72, 2.684, 2.694, 2.684, 2.689, 2.655, 2.645, 2.662, 2.718, 2.804, 2.793, 2.76, 2.717, 2.707, 2.664, 2.709, 2.756, 2.804, 2.841, 2.87, 2.851, 2.877, 2.909, 2.911, 2.901, 2.95, 2.958, 2.918, 2.842, 2.784, 2.78, 2.756, 2.795, 2.809, 2.779, 2.771, 2.775, 2.801, 2.788, 2.835, 2.798, 2.759, 2.736, 2.735, 2.772, 2.775, 2.747, 2.784, 2.871, 2.887, 2.87, 2.861, 2.917, 2.944, 2.931, 2.912, 3.013, 3.035, 3.037, 3.106, 3.124, 3.142, 3.158, 3.163, 3.155, 3.185, 3.193, 3.243, 3.435, 3.572, 3.621, 3.617, 3.65, 3.737, 3.843, 3.896, 3.932, 4.014, 4.018, 4.014, 3.904, 3.848, 3.833, 3.767, 3.708, 3.631, 3.634, 3.695, 3.736, 3.754, 3.766, 3.73, 3.662, 3.638, 3.682, 3.727, 3.715, 3.657, 3.568, 3.492, 3.476, 3.533, 3.52, 3.511, 3.482, 3.495, 3.427, 3.368, 3.35, 3.346, 3.29, 3.317, 3.358, 3.441, 3.451, 3.45, 3.5, 3.542, 3.584, 3.652, 3.78, 3.849, 3.884, 3.923, 3.973, 3.996, 3.997, 3.98, 3.929, 3.889, 3.849, 3.814, 3.773, 3.728, 3.671, 3.629, 3.589, 3.494, 3.415, 3.469, 3.485, 3.554, 3.568, 3.702, 3.779, 3.803, 3.837, 3.903, 3.907, 3.939, 3.889, 3.866, 3.914, 3.886, 3.756, 3.638, 3.563, 3.518, 3.497, 3.505, 3.463, 3.419, 3.324, 3.328, 3.369, 3.373, 3.377, 3.386, 3.427, 3.604, 3.677, 3.812, 3.851, 3.826, 3.779, 3.764, 3.746, 3.714, 3.676, 3.611, 3.603, 3.587, 3.602, 3.665, 3.729, 3.704, 3.705, 3.715, 3.689, 3.645, 3.567, 3.563, 3.706, 3.751, 3.716, 3.701, 3.633, 3.622, 3.623, 3.678, 3.658, 3.619, 3.567, 3.499, 3.441, 3.43, 3.435, 3.372, 3.343, 3.274, 3.298, 3.372, 3.353, 3.35, 3.321, 3.351, 3.409, 3.411, 3.406, 3.376, 3.375, 3.372, 3.388, 3.457, 3.52, 3.553, 3.584, 3.619, 3.622, 3.651, 3.67, 3.725, 3.758, 3.788, 3.761, 3.746, 3.743, 3.75, 3.765, 3.749, 3.76, 3.778, 3.778, 3.753, 3.712, 3.671, 3.617, 3.595, 3.582, 3.549, 3.532, 3.536, 3.534, 3.485, 3.432, 3.434, 3.382, 3.292, 3.205, 3.139, 3.077, 3.025, 2.978, 2.907, 2.864, 2.767, 2.643, 2.496, 2.392, 2.308, 2.232, 2.157, 2.133, 2.154, 2.276, 2.358, 2.415, 2.556, 2.57, 2.537, 2.538, 2.531, 2.499, 2.494, 2.57, 2.656, 2.749, 2.776, 2.827, 2.857, 2.863, 2.863, 2.918, 2.895, 2.885, 2.877, 2.92, 2.888, 2.833, 2.779, 2.72, 2.803, 2.726, 2.602, 2.532, 2.471, 2.425, 2.418, 2.415, 2.432, 2.374, 2.326, 2.322, 2.335, 2.281, 2.198, 2.165, 2.159, 2.144, 2.133, 2.141, 2.135, 2.104, 2.022, 1.965, 1.932, 1.87, 1.834, 1.837, 1.887, 1.943, 2.062, 2.109, 2.169, 2.185, 2.173, 2.24, 2.265, 2.342, 2.325, 2.345, 2.403, 2.44, 2.482, 2.499, 2.455, 2.432, 2.396, 2.359, 2.336, 2.289, 2.267, 2.256, 2.256, 2.299, 2.341, 2.329, 2.31, 2.333, 2.334, 2.354, 2.381, 2.367, 2.353, 2.341, 2.345, 2.298, 2.269, 2.268, 2.321, 2.347, 2.375, 2.419, 2.485, 2.496, 2.467, 2.436, 2.408, 2.405, 2.418, 2.414, 2.427, 2.452, 2.434, 2.433, 2.428, 2.471, 2.534, 2.546, 2.559, 2.522, 2.484, 2.481, 2.51, 2.516, 2.525, 2.479, 2.433, 2.404, 2.376, 2.411, 2.392, 2.426, 2.467, 2.492, 2.497, 2.474, 2.513, 2.794, 2.8, 2.75, 2.701, 2.682, 2.622, 2.605, 2.594, 2.602, 2.673, 2.706, 2.683, 2.648, 2.617, 2.601, 2.568, 2.589, 2.637, 2.639, 2.673, 2.684, 2.723, 2.753, 2.724, 2.676, 2.666, 2.679, 2.677, 2.716, 2.764, 2.817, 2.811, 2.863, 2.914, 2.961, 2.96, 2.949, 2.999, 3.039, 3.018, 2.989, 2.958, 2.913, 2.924, 2.937, 2.943, 2.911, 2.924, 2.93, 2.921, 2.9, 2.906, 2.903, 2.912, 2.921, 2.923, 2.947, 2.984, 2.961, 2.925, 2.896, 2.84, 2.773, 2.7, 2.63, 2.544, 2.511, 2.46, 2.413, 2.358, 2.329, 2.338, 2.34, 2.343, 2.341, 2.361, 2.4, 2.471, 2.502, 2.549, 2.625, 2.701, 2.77, 2.826, 2.912, 2.926, 2.972, 2.983, 2.954, 2.939, 2.909, 2.893, 2.821, 2.759, 2.741, 2.798, 2.827, 2.86, 2.833, 2.798, 2.772, 2.71, 2.684, 2.661, 2.651, 2.638, 2.64, 2.741, 2.737, 2.742, 2.727, 2.735, 2.692, 2.702, 2.711, 2.688, 2.672, 2.667, 2.652, 2.627, 2.621, 2.658, 2.665, 2.657, 2.625, 2.595, 2.546, 2.511, 2.518, 2.555, 2.514, 2.468, 2.343, 2.217, 2.103, 2.022, 1.951, 1.91, 1.87]\n"
     ]
    }
   ],
   "source": [
    "# This function gathers all elements with the class B6 - the years and months for row titles \n",
    "gas_years = soup2.find_all(\"td\", {\"class\": \"B6\"})\n",
    "gas_years = toString(gas_years)\n",
    "\n",
    "def getData(str_list):\n",
    "    titles = []\n",
    "    for i in str_list:\n",
    "        first = i.index('\\xa0')\n",
    "        last = i.index('</td>')\n",
    "        titles.append(i[first+2:last])\n",
    "    return titles\n",
    "gas_years = getData(gas_years)\n",
    "print(gas_years)\n",
    "\n",
    "\n",
    "#This funtion gathers all elements with the class B3 - the prices for the rows \n",
    "gas_prices = soup2.find_all(\"td\", {\"class\": \"B3\"})\n",
    "gas_prices = toString(gas_prices)\n",
    "\n",
    "def getPrices(str_list):\n",
    "    years = []\n",
    "    for i in str_list:\n",
    "        first = i.index('B3\">')\n",
    "        last = i.index('\\xa0')\n",
    "        years.append(i[first+4:last])\n",
    "    return years\n",
    "\n",
    "gas_prices = getPrices(gas_prices)\n",
    "\n",
    "\n",
    "# This function gets all of the official gas prices\n",
    "def removeSpaces(num_list):\n",
    "    only_nums = []\n",
    "    for num in num_list:\n",
    "        if num != '':\n",
    "            only_nums.append(float(num))\n",
    "    return only_nums\n",
    "gas_prices = removeSpaces(gas_prices)\n",
    "print(gas_prices)\n",
    "\n"
   ]
  },
  {
   "cell_type": "code",
   "execution_count": 14,
   "metadata": {},
   "outputs": [
    {
     "name": "stdout",
     "output_type": "stream",
     "text": [
      "[1.107, 1.062, 1.051, 1.005, 1.056, 1.161, 1.121, 1.131, 1.246, 1.179, 1.115, 1.133, 1.318, 1.263, 1.245, 1.274, 1.246, 1.226, 1.255, 1.158, 1.077, 1.096, 1.053, 1.015, 1.121, 1.151, 1.273, 1.315, 1.355, 1.579, 1.514, 1.584, 1.5, 1.665, 1.428, 1.277, 1.137, 1.435, 1.447, 1.455, 1.484, 1.692, 1.528, 1.635, 1.521, 1.8, 2.092, 1.909, 1.989, 1.953, 2.141, 2.653, 2.528, 2.402, 2.913, 3.05, 2.264, 2.213, 3.017, 2.926, 2.921, 3.104, 3.339, 4.146, 3.687, 1.67, 2.097, 2.695, 2.667, 2.684, 2.851, 2.784, 2.736, 2.912, 3.155, 3.848, 3.682, 3.511, 3.5, 3.889, 3.568, 3.638, 3.369, 3.587, 3.716, 3.499, 3.409, 3.651, 3.778, 3.434, 2.392, 2.531, 2.885, 2.602, 2.165, 1.887, 2.44, 2.341, 2.341, 2.408, 2.516, 2.467, 2.602, 2.723, 2.961, 2.924, 2.896, 2.358, 2.972, 2.798, 2.737, 2.658, 2.103]\n"
     ]
    }
   ],
   "source": [
    "with open(\"omit_prices.txt\") as file_reader:\n",
    "    soup3 = BeautifulSoup(file_reader, \"lxml\")\n",
    "soup3 = str(soup3)\n",
    "soup3 = soup3.replace('\\n', ' ')\n",
    "soup3 = re.sub(' +', ' ', soup3)\n",
    "soup3 = soup3.replace(' ', ', ')\n",
    "soup3 = soup3.replace('.', '')\n",
    "soup3 = soup3[16:]\n",
    "last = soup3.find('</p>')\n",
    "soup3 = soup3[:last]\n",
    "soup3\n",
    "\n",
    "#This function extracts all of the numbers from the title file \n",
    "def getNum(element):\n",
    "    element = re.findall(r'\\d+', element)\n",
    "    return element\n",
    "\n",
    "soup3 = getNum(soup3)\n",
    "# this function adds back all of the decimal places in the prices \n",
    "def insertDecimals(element):\n",
    "    replaced_nums = []\n",
    "    for i in element:\n",
    "        j = i[0] + '.' + i[1:]\n",
    "        replaced_nums.append(float(j))\n",
    "    return replaced_nums\n",
    "\n",
    "omit_prices = insertDecimals(soup3)\n",
    "print(omit_prices)"
   ]
  },
  {
   "cell_type": "code",
   "execution_count": 15,
   "metadata": {},
   "outputs": [],
   "source": [
    "#This function finds all of the positons of the omit prices \n",
    "def getPositions(omit, source):\n",
    "    positions = []\n",
    "    locations = []\n",
    "    singles = []\n",
    "    doubles = []\n",
    "    doubles_at = []\n",
    "    for i in range(len(source)): #gas_prices\n",
    "        if source[i] in omit: # source #omit_prices\n",
    "            positions.append(i)\n",
    "            locations.append(str(source[i]) + \" is at\" + str(i)) #gas_prices\n",
    "    for j in omit:\n",
    "        counts = source.count(j)\n",
    "        if counts <=1 :\n",
    "            singles.append(j)\n",
    "        else:\n",
    "            doubles.append(j)     \n",
    "    return [positions, locations, singles, doubles]\n",
    "\n",
    "positions =  getPositions(omit_prices, gas_prices)[0]    \n",
    "locations = getPositions(omit_prices, gas_prices)[1] \n",
    "singles = getPositions(omit_prices, gas_prices)[2] \n",
    "doubles = getPositions(omit_prices, gas_prices)[3] \n",
    "\n",
    "\n",
    "# This function finds the position of the duplicate week 5 prices and non-duplicate week 5 prices\n",
    "def dubPos(dubs, source):\n",
    "    pos = []\n",
    "    loc = []\n",
    "    for i in range(len(source)): #gas_prices\n",
    "        if source[i] in dubs: # source #omit_prices\n",
    "            pos.append(i)\n",
    "            loc.append(str(source[i]) + \" is at \" + str(i)) #gas_prices\n",
    "    return [pos, loc]\n",
    "\n",
    "\n",
    "dubPositions = dubPos(doubles, gas_prices)[1]\n",
    "singlePosition = dubPos(singles, gas_prices)[0]\n"
   ]
  },
  {
   "cell_type": "code",
   "execution_count": 16,
   "metadata": {},
   "outputs": [],
   "source": [
    "#This list contains the postions of all the week 5 prices to remove \n",
    "remove_pos = [8, 21, 34, 43, 60, 73, 82, 312, 95, 112, 208, 121, 134, 147, 160, 182, 195, 112, 208, 221, 234, 247, 260, 273, 282, 82, 312, 321, 334, 347, 373, 382, 395, 447, 473, 495, 508, 534, 560, 634, 686, 695, 734, 747, 760, 856, 869, 886, 895, 921, 995, 1008, 1021, 1108, 1134, 1169, 1282, 1221, 1230, 1243, 1269, 1308, 1321, 1334, 1343, 1373]"
   ]
  },
  {
   "cell_type": "code",
   "execution_count": 17,
   "metadata": {},
   "outputs": [],
   "source": [
    "# This function removes the duplicate positions from the list that contains all of the positons of week 5 prices \n",
    "# to remove \n",
    "def remove_dubs(list_dubs):\n",
    "    dubs = []\n",
    "    for i in list_dubs:\n",
    "        if i not in dubs:\n",
    "            dubs.append(i)\n",
    "    return dubs\n",
    "remove_pos = remove_dubs(remove_pos)\n",
    "\n",
    "\n",
    "# This function combines the list of all positions \n",
    "def omitAll(single, double):\n",
    "    omit = []\n",
    "    for i in single:\n",
    "        if i not in omit:\n",
    "            omit.append(i)\n",
    "    for j in double:\n",
    "        if j not in omit:\n",
    "            omit.append(j)\n",
    "    return omit \n",
    "omit_pos = omitAll(singlePosition, remove_pos)\n",
    "\n"
   ]
  },
  {
   "cell_type": "code",
   "execution_count": 18,
   "metadata": {},
   "outputs": [
    {
     "name": "stdout",
     "output_type": "stream",
     "text": [
      "[True, True, True, True, True, True, True, True, True, True, True, True, True, True, True, True, True, True, True, True, True, True, True, True, True, True, True, True, True, True, True, True, True, True, True, True, True, True, True, True, True, True, True, True, True, True, True, True, True, True, True, True, True, True, True, True, True, True, True, True, True, True, True, True, True, True, True, True, True, True, True, True, True, True, True, True, True, True, True, True, True, True, True, True, True, True, True, True, True, True, True, True, True, True, True, True, True, True, True, True, True, True, True, True, True, True, True, True, True, True, True, True, True]\n"
     ]
    },
    {
     "data": {
      "text/plain": [
       "0"
      ]
     },
     "execution_count": 18,
     "metadata": {},
     "output_type": "execute_result"
    }
   ],
   "source": [
    "# This functions checks to make sure the omit prices are accurate \n",
    "def check(omit, prices):\n",
    "    nums = []\n",
    "    for x in omit:\n",
    "        nums.append(prices[x])\n",
    "    return nums \n",
    "checked = check(omit_pos, gas_prices)\n",
    "\n",
    "here = []\n",
    "for x in checked:\n",
    "    if x in omit_prices:\n",
    "        here.append(True)\n",
    "    else:\n",
    "        here.append(False)\n",
    "print(here)\n",
    "here.count(False)\n",
    "        "
   ]
  },
  {
   "cell_type": "code",
   "execution_count": 19,
   "metadata": {},
   "outputs": [],
   "source": [
    "#This function removes all of the week 5 gas prices\n",
    "\n",
    "def sortDown(posList, baseList):\n",
    "    copy = posList[:]\n",
    "    main = baseList[:]\n",
    "    while copy != []:\n",
    "        pos = max(copy) \n",
    "        main.remove(main[pos])\n",
    "#         print(main)\n",
    "#         print(\"here at \" + str(pos) + \" \" +str(main[pos]))\n",
    "        copy.remove(pos)\n",
    "    return main\n",
    "        \n",
    "final_prices = sortDown(omit_pos, gas_prices)\n",
    "# print(len(final_prices))\n",
    "# print(final_prices)\n",
    "        "
   ]
  },
  {
   "cell_type": "code",
   "execution_count": 20,
   "metadata": {},
   "outputs": [],
   "source": [
    "#This function sorts the list of prices by year-month (row)\n",
    "def sepDate(l, z): \n",
    "    for i in range(0, len(l), z):  \n",
    "        yield l[i:i + z] \n",
    "priceDate = list(sepDate(final_prices, 4)) \n",
    "# print(priceDate)\n",
    "\n",
    "#This function sorts the prices by week 1, 2, 3 or 4\n",
    "def sepWeek(lists):\n",
    "    week1 = []\n",
    "    week2 = []\n",
    "    week3 = []\n",
    "    week4 = []\n",
    "    for i in lists:\n",
    "        week1.append(i[0])\n",
    "        week2.append(i[1])\n",
    "        week3.append(i[2])\n",
    "        week4.append(i[3])\n",
    "    return [week1, week2, week3, week4]\n",
    "\n",
    "week1 = sepWeek(priceDate)[0]\n",
    "week2 = sepWeek(priceDate)[1]\n",
    "week3 = sepWeek(priceDate)[2]\n",
    "week4 = sepWeek(priceDate)[3]\n",
    "        \n",
    "# print(week1)"
   ]
  },
  {
   "cell_type": "code",
   "execution_count": 21,
   "metadata": {},
   "outputs": [],
   "source": [
    "# The following section creates the dataframes for car crashes and gas prices"
   ]
  },
  {
   "cell_type": "code",
   "execution_count": 22,
   "metadata": {},
   "outputs": [],
   "source": [
    "import pandas as pd\n",
    "import numpy as np\n",
    "from matplotlib import pyplot\n",
    "from sklearn.linear_model import LinearRegression\n",
    "from sklearn.metrics import r2_score\n",
    "import math\n",
    "from sklearn import datasets, linear_model\n"
   ]
  },
  {
   "cell_type": "code",
   "execution_count": 23,
   "metadata": {},
   "outputs": [
    {
     "data": {
      "text/html": [
       "<div>\n",
       "<style scoped>\n",
       "    .dataframe tbody tr th:only-of-type {\n",
       "        vertical-align: middle;\n",
       "    }\n",
       "\n",
       "    .dataframe tbody tr th {\n",
       "        vertical-align: top;\n",
       "    }\n",
       "\n",
       "    .dataframe thead th {\n",
       "        text-align: right;\n",
       "    }\n",
       "</style>\n",
       "<table border=\"1\" class=\"dataframe\">\n",
       "  <thead>\n",
       "    <tr style=\"text-align: right;\">\n",
       "      <th></th>\n",
       "      <th>Population</th>\n",
       "      <th>Passenger vehicle occupants</th>\n",
       "      <th>Pedestrians</th>\n",
       "      <th>Motorcyclists</th>\n",
       "      <th>Bicyclists</th>\n",
       "      <th>Large truck occupants</th>\n",
       "      <th>All motor vehicle deaths*</th>\n",
       "    </tr>\n",
       "  </thead>\n",
       "  <tbody>\n",
       "    <tr>\n",
       "      <th>1975</th>\n",
       "      <td>215973199</td>\n",
       "      <td>30601</td>\n",
       "      <td>7516</td>\n",
       "      <td>3180</td>\n",
       "      <td>1003</td>\n",
       "      <td>916</td>\n",
       "      <td>44525</td>\n",
       "    </tr>\n",
       "    <tr>\n",
       "      <th>1976</th>\n",
       "      <td>218035164</td>\n",
       "      <td>31724</td>\n",
       "      <td>7427</td>\n",
       "      <td>3306</td>\n",
       "      <td>914</td>\n",
       "      <td>1100</td>\n",
       "      <td>45523</td>\n",
       "    </tr>\n",
       "    <tr>\n",
       "      <th>1977</th>\n",
       "      <td>220239425</td>\n",
       "      <td>32823</td>\n",
       "      <td>7732</td>\n",
       "      <td>4099</td>\n",
       "      <td>922</td>\n",
       "      <td>1229</td>\n",
       "      <td>47878</td>\n",
       "    </tr>\n",
       "    <tr>\n",
       "      <th>1978</th>\n",
       "      <td>222584545</td>\n",
       "      <td>34923</td>\n",
       "      <td>7795</td>\n",
       "      <td>4574</td>\n",
       "      <td>892</td>\n",
       "      <td>1315</td>\n",
       "      <td>50331</td>\n",
       "    </tr>\n",
       "    <tr>\n",
       "      <th>1979</th>\n",
       "      <td>225055487</td>\n",
       "      <td>35026</td>\n",
       "      <td>8096</td>\n",
       "      <td>4892</td>\n",
       "      <td>932</td>\n",
       "      <td>1372</td>\n",
       "      <td>51093</td>\n",
       "    </tr>\n",
       "  </tbody>\n",
       "</table>\n",
       "</div>"
      ],
      "text/plain": [
       "      Population  Passenger vehicle occupants  Pedestrians  Motorcyclists  \\\n",
       "1975   215973199                        30601         7516           3180   \n",
       "1976   218035164                        31724         7427           3306   \n",
       "1977   220239425                        32823         7732           4099   \n",
       "1978   222584545                        34923         7795           4574   \n",
       "1979   225055487                        35026         8096           4892   \n",
       "\n",
       "      Bicyclists  Large truck occupants  All motor vehicle deaths*  \n",
       "1975        1003                    916                      44525  \n",
       "1976         914                   1100                      45523  \n",
       "1977         922                   1229                      47878  \n",
       "1978         892                   1315                      50331  \n",
       "1979         932                   1372                      51093  "
      ]
     },
     "execution_count": 23,
     "metadata": {},
     "output_type": "execute_result"
    }
   ],
   "source": [
    "#This fucntion creates the car crashes data frame\n",
    "data1 = {column_titles[2]: population, column_titles[3]: passenger, column_titles[4]: pedestrians,\\\n",
    "         column_titles[5]: motorcycle, column_titles[6]: bike , column_titles[7]: truck, column_titles[8]: all_deaths}\n",
    "car_crashes = pd.DataFrame(data1, index=row_titles)\n",
    "\n",
    "car_crashes.head()\n"
   ]
  },
  {
   "cell_type": "code",
   "execution_count": 24,
   "metadata": {},
   "outputs": [
    {
     "data": {
      "text/html": [
       "<div>\n",
       "<style scoped>\n",
       "    .dataframe tbody tr th:only-of-type {\n",
       "        vertical-align: middle;\n",
       "    }\n",
       "\n",
       "    .dataframe tbody tr th {\n",
       "        vertical-align: top;\n",
       "    }\n",
       "\n",
       "    .dataframe thead th {\n",
       "        text-align: right;\n",
       "    }\n",
       "</style>\n",
       "<table border=\"1\" class=\"dataframe\">\n",
       "  <thead>\n",
       "    <tr style=\"text-align: right;\">\n",
       "      <th></th>\n",
       "      <th>Week 1</th>\n",
       "      <th>Week 2</th>\n",
       "      <th>Week 3</th>\n",
       "      <th>Week 4</th>\n",
       "    </tr>\n",
       "  </thead>\n",
       "  <tbody>\n",
       "    <tr>\n",
       "      <th>1993-Apr</th>\n",
       "      <td>1.068</td>\n",
       "      <td>1.079</td>\n",
       "      <td>1.086</td>\n",
       "      <td>1.106</td>\n",
       "    </tr>\n",
       "    <tr>\n",
       "      <th>1993-May</th>\n",
       "      <td>1.107</td>\n",
       "      <td>1.104</td>\n",
       "      <td>1.101</td>\n",
       "      <td>1.095</td>\n",
       "    </tr>\n",
       "    <tr>\n",
       "      <th>1993-Jun</th>\n",
       "      <td>1.086</td>\n",
       "      <td>1.081</td>\n",
       "      <td>1.075</td>\n",
       "      <td>1.069</td>\n",
       "    </tr>\n",
       "    <tr>\n",
       "      <th>1993-Jul</th>\n",
       "      <td>1.062</td>\n",
       "      <td>1.060</td>\n",
       "      <td>1.059</td>\n",
       "      <td>1.065</td>\n",
       "    </tr>\n",
       "    <tr>\n",
       "      <th>1993-Aug</th>\n",
       "      <td>1.062</td>\n",
       "      <td>1.055</td>\n",
       "      <td>1.051</td>\n",
       "      <td>1.045</td>\n",
       "    </tr>\n",
       "  </tbody>\n",
       "</table>\n",
       "</div>"
      ],
      "text/plain": [
       "          Week 1  Week 2  Week 3  Week 4\n",
       "1993-Apr   1.068   1.079   1.086   1.106\n",
       "1993-May   1.107   1.104   1.101   1.095\n",
       "1993-Jun   1.086   1.081   1.075   1.069\n",
       "1993-Jul   1.062   1.060   1.059   1.065\n",
       "1993-Aug   1.062   1.055   1.051   1.045"
      ]
     },
     "execution_count": 24,
     "metadata": {},
     "output_type": "execute_result"
    }
   ],
   "source": [
    "#This function creates the dataframe for gas prices \n",
    "gas_title = gas_data_col_titles[1:]\n",
    "data2 = {gas_title[0]:week1, gas_title[1]:week2, gas_title[2]:week3, gas_title[3]:week4}\n",
    "gas_prices_df = pd.DataFrame(data2, index= gas_years)\n",
    "gas_prices_df.head()"
   ]
  },
  {
   "cell_type": "markdown",
   "metadata": {},
   "source": [
    "**Data requirements**\n",
    "mean \n",
    "standard deviation \n",
    "scatter plots\n",
    "histograms\n",
    "(one model showing patterns or relationships between variables that addresses your research question)\n",
    "^ regression or clustering (measures some property of the dataset)\n",
    "Use hypothesis tests, simulation, randomization, or any other techniques to compare the patterns you observe \n"
   ]
  },
  {
   "cell_type": "code",
   "execution_count": 25,
   "metadata": {},
   "outputs": [],
   "source": [
    "# The following section numerically analzyes the data from both data frames "
   ]
  },
  {
   "cell_type": "code",
   "execution_count": 26,
   "metadata": {},
   "outputs": [],
   "source": [
    "# This function finds the mean \n",
    "def calc_mean(arry):\n",
    "    n = len(arry)\n",
    "    total = 0\n",
    "    for num in arry:\n",
    "        total += num\n",
    "    return total/n"
   ]
  },
  {
   "cell_type": "code",
   "execution_count": 27,
   "metadata": {},
   "outputs": [],
   "source": [
    "car_titles = column_titles[3:]\n",
    "# car_titles"
   ]
  },
  {
   "cell_type": "code",
   "execution_count": 28,
   "metadata": {},
   "outputs": [
    {
     "name": "stdout",
     "output_type": "stream",
     "text": [
      "Mean of Passenger vehicle occupants: 29600.386363636364\n",
      "Mean of Pedestrians: 5885.818181818182\n",
      "Mean of Motorcyclists: 3931.090909090909\n",
      "Mean of Bicyclists: 802.9090909090909\n",
      "Mean of Large truck occupants: 781.3409090909091\n",
      "Mean of All motor vehicle deaths*: 41788.88636363636\n"
     ]
    }
   ],
   "source": [
    "# Car Crashes Mean \n",
    "for x in range(len(car_titles)):\n",
    "    y = calc_mean(car_crashes[car_titles[x]])\n",
    "    print(\"Mean of \" + car_titles[x] + \": \" + str(y))\n",
    "    "
   ]
  },
  {
   "cell_type": "code",
   "execution_count": 29,
   "metadata": {},
   "outputs": [
    {
     "name": "stdout",
     "output_type": "stream",
     "text": [
      "Mean of Week 1: 2.2072030769230766\n",
      "Mean of Week 2: 2.2083507692307696\n",
      "Mean of Week 3: 2.2109630769230764\n",
      "Mean of Week 4: 2.211341538461538\n"
     ]
    }
   ],
   "source": [
    "# Gas Prices Mean \n",
    "for x in range(len(gas_title)):\n",
    "    y = calc_mean(gas_prices_df[gas_title[x]])\n",
    "    print(\"Mean of \" + gas_title[x] + \": \" + str(y))"
   ]
  },
  {
   "cell_type": "code",
   "execution_count": 30,
   "metadata": {},
   "outputs": [],
   "source": [
    "#This function finds the variance \n",
    "def calc_variance(arry):\n",
    "    total = 0 \n",
    "    \n",
    "    for e in arry:\n",
    "        total += e\n",
    "    mean = total/len(arry)\n",
    "\n",
    "    sumation = 0\n",
    "    for el in arry:\n",
    "        sumation = sumation + ((el - mean)**2)\n",
    "    return sumation/(len(arry))"
   ]
  },
  {
   "cell_type": "code",
   "execution_count": 31,
   "metadata": {},
   "outputs": [],
   "source": [
    "#Variance of Car Crashes "
   ]
  },
  {
   "cell_type": "code",
   "execution_count": 32,
   "metadata": {},
   "outputs": [
    {
     "name": "stdout",
     "output_type": "stream",
     "text": [
      "Variance of Passenger vehicle occupants: 17861301.282541323\n",
      "Variance of Pedestrians: 1350169.1942148758\n",
      "Variance of Motorcyclists: 1039459.9462809917\n",
      "Variance of Bicyclists: 9156.946280991733\n",
      "Variance of Large truck occupants: 46586.497417355364\n",
      "Variance of All motor vehicle deaths*: 24028795.00981405\n"
     ]
    }
   ],
   "source": [
    "for x in range(len(car_titles)):\n",
    "    y = calc_variance(car_crashes[car_titles[x]])\n",
    "    print(\"Variance of \" + car_titles[x] + \": \" + str(y))"
   ]
  },
  {
   "cell_type": "code",
   "execution_count": 33,
   "metadata": {},
   "outputs": [
    {
     "name": "stdout",
     "output_type": "stream",
     "text": [
      "Variance of Week 1: 0.7992083279905328\n",
      "Variance of Week 2: 0.7968435692686391\n",
      "Variance of Week 3: 0.8007224786366858\n",
      "Variance of Week 4: 0.8015759787360955\n"
     ]
    }
   ],
   "source": [
    "#Variance of Gas Prices \n",
    "for x in range(len(gas_title)):\n",
    "    y = calc_variance(gas_prices_df[gas_title[x]])\n",
    "    print(\"Variance of \" + gas_title[x] + \": \" + str(y))"
   ]
  },
  {
   "cell_type": "code",
   "execution_count": 34,
   "metadata": {},
   "outputs": [],
   "source": [
    "#This function finds the covariance \n",
    "def calc_covariance(x_arry, y_arry):\n",
    "    x_sumation = []\n",
    "    both_sumation = []\n",
    "    acc = 0\n",
    "    x_total = 0 \n",
    "    y_total = 0\n",
    "    \n",
    "    for x in x_arry:\n",
    "        x_total += x\n",
    "    mean_for_x = x_total/len(x_arry)\n",
    "    for y in y_arry:\n",
    "        y_total += y\n",
    "    mean_for_y = y_total/len(y_arry)\n",
    "    \n",
    "    \n",
    "    for el_x in x_arry:\n",
    "        x_sumation.append(el_x - mean_for_x)\n",
    "    for el_y in y_arry:\n",
    "        both_sumation.append((el_y - mean_for_y) * x_sumation[acc])\n",
    "        acc += 1\n",
    "        \n",
    "    both_sumation = np.array([both_sumation])\n",
    "    return (both_sumation.sum())/(len(x_arry)-1)"
   ]
  },
  {
   "cell_type": "code",
   "execution_count": 35,
   "metadata": {},
   "outputs": [
    {
     "name": "stdout",
     "output_type": "stream",
     "text": [
      "Covariance of Passenger vehicle occupants and Pedestrians: 2488160.9556025374\n",
      "Covariance of Pedestrians and Motorcyclists: 165506.76109936577\n",
      "Covariance of Motorcyclists and Bicyclists: 9556.403805496828\n",
      "Covariance of Bicyclists and Large truck occupants: 15180.124735729392\n",
      "Covariance of Large truck occupants and All motor vehicle deaths*: 912105.2954545454\n"
     ]
    }
   ],
   "source": [
    "#Covariances for Car Crashes \n",
    "for x in range(len(car_titles)-1):\n",
    "    y = calc_covariance(car_crashes[car_titles[x]],  car_crashes[car_titles[(x+1)]])\n",
    "    print(\"Covariance of \" + car_titles[x] + \" and \" +  car_titles[(x+1)]+ \": \" + str(y))\n"
   ]
  },
  {
   "cell_type": "code",
   "execution_count": 36,
   "metadata": {},
   "outputs": [
    {
     "name": "stdout",
     "output_type": "stream",
     "text": [
      "Covariance of Week 1 and Week 2: 0.7993609841025641\n",
      "Covariance of Week 2 and Week 3: 0.8002132506457739\n",
      "Covariance of Week 3 and Week 4: 0.8025963521557454\n"
     ]
    }
   ],
   "source": [
    "#Covariances for Gas Prices \n",
    "for x in range(len(gas_title)-1):\n",
    "    y = calc_covariance(gas_prices_df[gas_title[x]],  gas_prices_df[gas_title[x+1]])\n",
    "    print(\"Covariance of \" + gas_title[x] + \" and \" +  gas_title[(x+1)]+ \": \" + str(y))\n",
    " "
   ]
  },
  {
   "cell_type": "code",
   "execution_count": 37,
   "metadata": {},
   "outputs": [
    {
     "name": "stdout",
     "output_type": "stream",
     "text": [
      " \n",
      "Covariance of Week 1 and Passenger vehicle occupants: -34.6909308361391\n",
      "Covariance of Week 1 and Pedestrians: -8.33761896745227\n",
      "Covariance of Week 1 and Motorcyclists: 1.501084175084165\n",
      "Covariance of Week 1 and Bicyclists: -0.6252570145903521\n",
      "Covariance of Week 1 and Large truck occupants: -1.5804636644219932\n",
      "Covariance of Week 1 and All motor vehicle deaths*: -43.51880120651\n",
      " \n",
      "Covariance of Week 2 and Passenger vehicle occupants: -34.395709876543144\n",
      "Covariance of Week 2 and Pedestrians: -8.527046296296271\n",
      "Covariance of Week 2 and Motorcyclists: 1.2101296296296193\n",
      "Covariance of Week 2 and Bicyclists: -0.6292746913580293\n",
      "Covariance of Week 2 and Large truck occupants: -1.6292283950617232\n",
      "Covariance of Week 2 and All motor vehicle deaths*: -43.795490740741215\n",
      " \n",
      "Covariance of Week 3 and Passenger vehicle occupants: -35.6295394921436\n",
      "Covariance of Week 3 and Pedestrians: -8.78180022446687\n",
      "Covariance of Week 3 and Motorcyclists: 1.2796007295173835\n",
      "Covariance of Week 3 and Bicyclists: -0.6495112233445612\n",
      "Covariance of Week 3 and Large truck occupants: -1.6997287457912418\n",
      "Covariance of Week 3 and All motor vehicle deaths*: -45.331862023008355\n",
      " \n",
      "Covariance of Week 4 and Passenger vehicle occupants: -35.89678794893373\n",
      "Covariance of Week 4 and Pedestrians: -8.977719977553285\n",
      "Covariance of Week 4 and Motorcyclists: 1.0909494949494813\n",
      "Covariance of Week 4 and Bicyclists: -0.6563198653198693\n",
      "Covariance of Week 4 and Large truck occupants: -1.739850659371488\n",
      "Covariance of Week 4 and All motor vehicle deaths*: -46.01100862794658\n"
     ]
    }
   ],
   "source": [
    "#Covariances for both Car Crashes and Gas Prices \n",
    "for x in range(len(gas_title)):\n",
    "    print(\" \")\n",
    "    for i in range(len(car_titles)):\n",
    "        y = calc_covariance(gas_prices_df[gas_title[x]],  car_crashes[car_titles[i]])\n",
    "        print(\"Covariance of \" + gas_title[x] + \" and \" +  car_titles[i]+ \": \" + str(y))"
   ]
  },
  {
   "cell_type": "code",
   "execution_count": 38,
   "metadata": {},
   "outputs": [],
   "source": [
    "# #Covariances for both Car Crashes and Gas Prices \n",
    "# acc = 0\n",
    "# for x in range(len(gas_title)):\n",
    "#     y = calc_covariance(gas_prices_df[gas_title[x]],  car_crashes[car_titles[acc]])\n",
    "#     print(\"Covariance of \" + gas_title[x] + \" and \" +  car_titles[acc]+ \": \" + str(y))\n",
    "#     acc += 1\n",
    "# z = calc_covariance(gas_prices_df[gas_title[0]],  car_crashes[car_titles[acc]]) \n",
    "# print(\"Covariance of \" + gas_title[0] + \" and \" +  car_titles[acc]+ \": \" + str(z))\n",
    "# acc +=1\n",
    "# w = calc_covariance(gas_prices_df[gas_title[1]],  car_crashes[car_titles[acc]])  \n",
    "# print(\"Covariance of \" + gas_title[1] + \" and \" +  car_titles[acc]+ \": \" + str(w))"
   ]
  },
  {
   "cell_type": "code",
   "execution_count": 39,
   "metadata": {},
   "outputs": [],
   "source": [
    "#This function finds the correlation\n",
    "def calc_correlation(x_arry, y_arry): \n",
    "    import math \n",
    "    x_sumation = []\n",
    "    x_sq_sum = 0\n",
    "    y_sq_sum = 0\n",
    "    both_sumation = []\n",
    "    acc = 0\n",
    "    x_total = 0 \n",
    "    y_total = 0\n",
    "    \n",
    "    for x in x_arry:\n",
    "        x_total += x\n",
    "    mean_for_x = x_total/len(x_arry)\n",
    "    for y in y_arry:\n",
    "        y_total += y\n",
    "    mean_for_y = y_total/len(y_arry)\n",
    "    \n",
    "    \n",
    "    for el_x in x_arry:\n",
    "        x_sumation.append(el_x - mean_for_x)\n",
    "        x_sq_sum += ((el_x - mean_for_x)**2)\n",
    "    for el_y in y_arry:\n",
    "        y_sq_sum += ((el_y - mean_for_y)**2)\n",
    "        both_sumation.append((el_y - mean_for_y) * x_sumation[acc])\n",
    "        acc += 1\n",
    "    denom = x_sq_sum * y_sq_sum\n",
    "    \n",
    "    both_sumation = np.array([both_sumation])\n",
    "    return (both_sumation.sum())/ math.sqrt(denom)"
   ]
  },
  {
   "cell_type": "code",
   "execution_count": 40,
   "metadata": {},
   "outputs": [
    {
     "name": "stdout",
     "output_type": "stream",
     "text": [
      "Correlation of Passenger vehicle occupants and Pedestrians: 0.49515777690615886\n",
      "Correlation of Pedestrians and Motorcyclists: 0.13653171385465815\n",
      "Correlation of Motorcyclists and Bicyclists: 0.09572625280542221\n",
      "Correlation of Bicyclists and Large truck occupants: 0.7182667397528478\n",
      "Correlation of Large truck occupants and All motor vehicle deaths*: 0.8424899526507537\n"
     ]
    }
   ],
   "source": [
    "# Correlation for Car Crashes \n",
    "for x in range(len(car_titles)-1):\n",
    "    y = calc_correlation(car_crashes[car_titles[x]],  car_crashes[car_titles[(x+1)]])\n",
    "    print(\"Correlation of \" + car_titles[x] + \" and \" +  car_titles[(x+1)]+ \": \" + str(y))"
   ]
  },
  {
   "cell_type": "code",
   "execution_count": 41,
   "metadata": {},
   "outputs": [
    {
     "name": "stdout",
     "output_type": "stream",
     "text": [
      "Correlation of Week 1 and Week 2: 0.9985919479233725\n",
      "Correlation of Week 2 and Week 3: 0.998711018617926\n",
      "Correlation of Week 3 and Week 4: 0.9987239702448818\n"
     ]
    }
   ],
   "source": [
    "# Correlation for Gas Prices\n",
    "for x in range(len(gas_title)-1):\n",
    "    y = calc_correlation(gas_prices_df[gas_title[x]],  gas_prices_df[gas_title[x+1]])\n",
    "    print(\"Correlation of \" + gas_title[x] + \" and \" +  gas_title[(x+1)]+ \": \" + str(y))"
   ]
  },
  {
   "cell_type": "code",
   "execution_count": 42,
   "metadata": {},
   "outputs": [
    {
     "name": "stdout",
     "output_type": "stream",
     "text": [
      " \n",
      "Correlation of Week 1 and Passenger vehicle occupants: -0.024877480593864534\n",
      "Correlation of Week 1 and Pedestrians: -0.021746778825550882\n",
      "Correlation of Week 1 and Motorcyclists: 0.0044621910213787095\n",
      "Correlation of Week 1 and Bicyclists: -0.01980296548672474\n",
      "Correlation of Week 1 and Large truck occupants: -0.02219225719880117\n",
      "Correlation of Week 1 and All motor vehicle deaths*: -0.026906543990728216\n",
      " \n",
      "Correlation of Week 2 and Passenger vehicle occupants: -0.024702345085243847\n",
      "Correlation of Week 2 and Pedestrians: -0.022273834013580258\n",
      "Correlation of Week 2 and Motorcyclists: 0.0036026201222988537\n",
      "Correlation of Week 2 and Bicyclists: -0.01995976333571075\n",
      "Correlation of Week 2 and Large truck occupants: -0.02291091300563935\n",
      "Correlation of Week 2 and All motor vehicle deaths*: -0.027117762716148196\n",
      " \n",
      "Correlation of Week 3 and Passenger vehicle occupants: -0.02552640422587677\n",
      "Correlation of Week 3 and Pedestrians: -0.022883657390354577\n",
      "Correlation of Week 3 and Motorcyclists: 0.003800201110810688\n",
      "Correlation of Week 3 and Bicyclists: -0.02055167899582775\n",
      "Correlation of Week 3 and Large truck occupants: -0.023844354540035733\n",
      "Correlation of Week 3 and All motor vehicle deaths*: -0.028001000102781132\n",
      " \n",
      "Correlation of Week 4 and Passenger vehicle occupants: -0.02570417598472763\n",
      "Correlation of Week 4 and Pedestrians: -0.02338172790901072\n",
      "Correlation of Week 4 and Motorcyclists: 0.0032382129887166657\n",
      "Correlation of Week 4 and Bicyclists: -0.020756057294756686\n",
      "Correlation of Week 4 and Large truck occupants: -0.02439420037634525\n",
      "Correlation of Week 4 and All motor vehicle deaths*: -0.028405366817853512\n"
     ]
    }
   ],
   "source": [
    "# Correlation for Car Crashes and Gas Prices \n",
    "for x in range(len(gas_title)):\n",
    "    print(\" \")\n",
    "    for i in range(len(car_titles)):\n",
    "        y = calc_correlation(gas_prices_df[gas_title[x]],  car_crashes[car_titles[i]])\n",
    "        print(\"Correlation of \" + gas_title[x] + \" and \" +  car_titles[i]+ \": \" + str(y))"
   ]
  },
  {
   "cell_type": "code",
   "execution_count": 43,
   "metadata": {},
   "outputs": [],
   "source": [
    "# This method finds the standard deviation: .std()"
   ]
  },
  {
   "cell_type": "code",
   "execution_count": 44,
   "metadata": {},
   "outputs": [
    {
     "name": "stdout",
     "output_type": "stream",
     "text": [
      "Standard Deviation of Passenger vehicle occupants: 4275.12343472505\n",
      "Standard Deviation of Pedestrians: 1175.40141134902\n",
      "Standard Deviation of Motorcyclists: 1031.326055815427\n",
      "Standard Deviation of Bicyclists: 96.79823614139136\n",
      "Standard Deviation of Large truck occupants: 218.33438651306864\n",
      "Standard Deviation of All motor vehicle deaths*: 4958.588931953202\n"
     ]
    }
   ],
   "source": [
    "#Standard deviation for Car Crashes\n",
    "for x in range(len(car_titles)):\n",
    "    y = car_crashes[car_titles[x]].std()\n",
    "    print(\"Standard Deviation of \" + car_titles[x] + \": \" + str(y))\n"
   ]
  },
  {
   "cell_type": "code",
   "execution_count": 45,
   "metadata": {
    "scrolled": true
   },
   "outputs": [
    {
     "name": "stdout",
     "output_type": "stream",
     "text": [
      "Standard Deviation of Week 1: 0.8953630662255808\n",
      "Standard Deviation of Week 2: 0.8940374505583922\n",
      "Standard Deviation of Week 3: 0.8962108258169449\n",
      "Standard Deviation of Week 4: 0.8966883397649744\n"
     ]
    }
   ],
   "source": [
    "#Standard deviation for Gas Prices \n",
    "for x in range(len(gas_title)):\n",
    "    y = gas_prices_df[gas_title[x]].std()\n",
    "    print(\"Standard Deviation of \" + gas_title[x] + \": \" + str(y))"
   ]
  },
  {
   "cell_type": "code",
   "execution_count": 46,
   "metadata": {},
   "outputs": [],
   "source": [
    "# This function finds the slope and intercrept\n",
    "def slope_int(list1, list2):\n",
    "    data = {\"X\": list1, \"Y\": list2}\n",
    "    dataframe = pd.DataFrame(data)\n",
    "\n",
    "    x = dataframe.X.values\n",
    "    y = dataframe.Y.values\n",
    "\n",
    "    x = x.reshape(-1, 1)\n",
    "    y = y.reshape(-1, 1)\n",
    "\n",
    "    model = linear_model.LinearRegression()\n",
    "    model.fit(x,y)\n",
    "    return [float(model.coef_), float(model.intercept_)]\n",
    "    "
   ]
  },
  {
   "cell_type": "code",
   "execution_count": 47,
   "metadata": {},
   "outputs": [
    {
     "name": "stdout",
     "output_type": "stream",
     "text": [
      "Slope of Passenger vehicle occupants and All motor vehicle deaths*: 1.0692277369016623\n",
      "Intercept of Passenger vehicle occupants and All motor vehicle deaths*: 10139.332240630625\n",
      " \n",
      "Slope of Pedestrians and All motor vehicle deaths*: 3.1661145253772838\n",
      "Intercept of Pedestrians and All motor vehicle deaths*: 23153.711924452098\n",
      " \n",
      "Slope of Motorcyclists and All motor vehicle deaths*: -0.5583151755611873\n",
      "Intercept of Motorcyclists and All motor vehicle deaths*: 43983.67407469244\n",
      " \n",
      "Slope of Bicyclists and All motor vehicle deaths*: 34.42067395884711\n",
      "Intercept of Bicyclists and All motor vehicle deaths*: 14152.214326860209\n",
      " \n"
     ]
    }
   ],
   "source": [
    "#Slope and Intercrept for Car Crashes\n",
    "for x in range(len(car_titles)-2):\n",
    "    y = slope_int(car_crashes[car_titles[x]],  car_crashes[car_titles[(-1)]])\n",
    "    print(\"Slope of \" + car_titles[x] + \" and \" +  car_titles[(-1)]+ \": \" + str(y[0]))\n",
    "    print(\"Intercept of \" + car_titles[x] + \" and \" +  car_titles[(-1)]+ \": \" + str(y[1]))\n",
    "    print(\" \")\n",
    "    "
   ]
  },
  {
   "cell_type": "code",
   "execution_count": 48,
   "metadata": {
    "scrolled": true
   },
   "outputs": [
    {
     "name": "stdout",
     "output_type": "stream",
     "text": [
      "Slope of Week 1 and Week 2: 0.9971134983633794\n",
      "Intercept of Week 1 and Week 2: 0.007518787601584531\n",
      " \n",
      "Slope of Week 2 and Week 3: 1.0011388518333608\n",
      "Intercept of Week 2 and Week 3: 9.73233700656273e-05\n",
      " \n",
      "Slope of Week 3 and Week 4: 0.999256104662683\n",
      "Intercept of Week 3 and Week 4: 0.0020231866623650063\n",
      " \n"
     ]
    }
   ],
   "source": [
    "#Slope and Intercrept for Gas Prices\n",
    "for x in range(len(gas_title)-1):\n",
    "    y = slope_int(gas_prices_df[gas_title[x]],  gas_prices_df[gas_title[x+1]])\n",
    "    print(\"Slope of \" + gas_title[x] + \" and \" +  gas_title[(x+1)] + \": \" + str(y[0]))\n",
    "    print(\"Intercept of \" + gas_title[x] + \" and \" +  gas_title[(x+1)] + \": \" + str(y[1]))\n",
    "    print(\" \")\n",
    "    "
   ]
  },
  {
   "cell_type": "code",
   "execution_count": 49,
   "metadata": {},
   "outputs": [],
   "source": [
    "#Slope and Intercept for Car Crashes and Gas Prices \n",
    "\n",
    "\n",
    "\n"
   ]
  },
  {
   "cell_type": "code",
   "execution_count": null,
   "metadata": {},
   "outputs": [],
   "source": []
  },
  {
   "cell_type": "code",
   "execution_count": 50,
   "metadata": {},
   "outputs": [
    {
     "data": {
      "image/png": "[encoded data removed]",
      "text/plain": [
       "<Figure size 432x288 with 1 Axes>"
      ]
     },
     "metadata": {},
     "output_type": "display_data"
    },
    {
     "data": {
      "image/png": "[encoded data removed]",
      "text/plain": [
       "<Figure size 432x288 with 1 Axes>"
      ]
     },
     "metadata": {},
     "output_type": "display_data"
    },
    {
     "data": {
      "image/png": "[encoded data removed]",
      "text/plain": [
       "<Figure size 432x288 with 1 Axes>"
      ]
     },
     "metadata": {},
     "output_type": "display_data"
    },
    {
     "data": {
      "image/png": "[encoded data removed]",
      "text/plain": [
       "<Figure size 432x288 with 1 Axes>"
      ]
     },
     "metadata": {},
     "output_type": "display_data"
    },
    {
     "data": {
      "image/png": "[encoded data removed]",
      "text/plain": [
       "<Figure size 432x288 with 1 Axes>"
      ]
     },
     "metadata": {},
     "output_type": "display_data"
    }
   ],
   "source": [
    "#This function graphs the scatter plots for car crashes\n",
    "def scatter_it(x, y):\n",
    "    plt.scatter(x, y)\n",
    "    plt.xlim(0)\n",
    "    plt.ylim(0)\n",
    "    plt.show()\n",
    "    \n",
    "    \n",
    "car_passenger = car_crashes[\"Passenger vehicle occupants\"]\n",
    "car_pedestrians = car_crashes[\"Pedestrians\"]\n",
    "car_motorcyclists = car_crashes[\"Motorcyclists\"]\n",
    "car_bicyclists = car_crashes[\"Bicyclists\"]\n",
    "car_truck = car_crashes[\"Large truck occupants\"]\n",
    "car_all = car_crashes[\"All motor vehicle deaths*\"]\n",
    "\n",
    "car_column_data = [car_passenger, car_pedestrians, car_motorcyclists, car_bicyclists, car_truck, car_all]\n",
    "\n",
    "def plot_scatter(cols):\n",
    "    for x in range(len(cols)-1):\n",
    "        pyplot.scatter(cols[x], cols[-1])\n",
    "        pyplot.xlim(0)\n",
    "        pyplot.ylim(0)\n",
    "        pyplot.xlabel(car_titles[x])\n",
    "        pyplot.ylabel(car_titles[-1])\n",
    "        pyplot.show()\n",
    "plot_scatter(car_column_data)\n"
   ]
  },
  {
   "cell_type": "code",
   "execution_count": 51,
   "metadata": {},
   "outputs": [
    {
     "data": {
      "image/png": "[encoded data removed]",
      "text/plain": [
       "<Figure size 432x288 with 1 Axes>"
      ]
     },
     "metadata": {},
     "output_type": "display_data"
    },
    {
     "data": {
      "image/png": "[encoded data removed]",
      "text/plain": [
       "<Figure size 432x288 with 1 Axes>"
      ]
     },
     "metadata": {},
     "output_type": "display_data"
    },
    {
     "data": {
      "image/png": "[encoded data removed]",
      "text/plain": [
       "<Figure size 432x288 with 1 Axes>"
      ]
     },
     "metadata": {},
     "output_type": "display_data"
    }
   ],
   "source": [
    "#This function graphs the scatter plots for gas prices\n",
    "\n",
    "gas_week1 = gas_prices_df[gas_title[0]]\n",
    "gas_week2 = gas_prices_df[gas_title[1]]\n",
    "gas_week3 = gas_prices_df[gas_title[2]]\n",
    "gas_week4 = gas_prices_df[gas_title[3]]\n",
    "\n",
    "gas_column_data = [gas_week1, gas_week2, gas_week3, gas_week4]\n",
    "\n",
    "\n",
    "def gas_plot_scatter(cols):\n",
    "    for x in range(len(cols)-1):\n",
    "        pyplot.scatter(cols[x], cols[x+1])\n",
    "        pyplot.xlim(0)\n",
    "        pyplot.ylim(0)\n",
    "        pyplot.xlabel(gas_title[x])\n",
    "        pyplot.ylabel(gas_title[x+1])\n",
    "        pyplot.show()\n",
    "gas_plot_scatter(gas_column_data)"
   ]
  },
  {
   "cell_type": "code",
   "execution_count": 52,
   "metadata": {},
   "outputs": [
    {
     "data": {
      "image/png": "[encoded data removed]",
      "text/plain": [
       "<Figure size 432x288 with 1 Axes>"
      ]
     },
     "metadata": {},
     "output_type": "display_data"
    },
    {
     "data": {
      "image/png": "[encoded data removed]",
      "text/plain": [
       "<Figure size 432x288 with 1 Axes>"
      ]
     },
     "metadata": {},
     "output_type": "display_data"
    },
    {
     "data": {
      "image/png": "[encoded data removed]",
      "text/plain": [
       "<Figure size 432x288 with 1 Axes>"
      ]
     },
     "metadata": {},
     "output_type": "display_data"
    },
    {
     "data": {
      "image/png": "[encoded data removed]",
      "text/plain": [
       "<Figure size 432x288 with 1 Axes>"
      ]
     },
     "metadata": {},
     "output_type": "display_data"
    },
    {
     "data": {
      "image/png": "[encoded data removed]",
      "text/plain": [
       "<Figure size 432x288 with 1 Axes>"
      ]
     },
     "metadata": {},
     "output_type": "display_data"
    },
    {
     "data": {
      "image/png": "[encoded data removed]",
      "text/plain": [
       "<Figure size 432x288 with 1 Axes>"
      ]
     },
     "metadata": {},
     "output_type": "display_data"
    }
   ],
   "source": [
    "#This function graphs the scatter plots for both car crashes and week 1 gas prices\n",
    "def both_plot_scatter_w1(cols):\n",
    "    for x in range(len(cols)):\n",
    "        pyplot.scatter(cols[x],  gas_column_data[0][:len(car_column_data[1])])\n",
    "        pyplot.xlim(0)\n",
    "        pyplot.ylim(0)\n",
    "        pyplot.xlabel(car_titles[x])\n",
    "        pyplot.ylabel(gas_title[0])\n",
    "        pyplot.show()\n",
    "both_plot_scatter_w1(car_column_data)"
   ]
  },
  {
   "cell_type": "code",
   "execution_count": 53,
   "metadata": {},
   "outputs": [
    {
     "data": {
      "image/png": "[encoded data removed]",
      "text/plain": [
       "<Figure size 432x288 with 1 Axes>"
      ]
     },
     "metadata": {},
     "output_type": "display_data"
    },
    {
     "data": {
      "image/png": "[encoded data removed]",
      "text/plain": [
       "<Figure size 432x288 with 1 Axes>"
      ]
     },
     "metadata": {},
     "output_type": "display_data"
    },
    {
     "data": {
      "image/png": "[encoded data removed]",
      "text/plain": [
       "<Figure size 432x288 with 1 Axes>"
      ]
     },
     "metadata": {},
     "output_type": "display_data"
    },
    {
     "data": {
      "image/png": "[encoded data removed]",
      "text/plain": [
       "<Figure size 432x288 with 1 Axes>"
      ]
     },
     "metadata": {},
     "output_type": "display_data"
    },
    {
     "data": {
      "image/png": "[encoded data removed]",
      "text/plain": [
       "<Figure size 432x288 with 1 Axes>"
      ]
     },
     "metadata": {},
     "output_type": "display_data"
    },
    {
     "data": {
      "image/png": "[encoded data removed]",
      "text/plain": [
       "<Figure size 432x288 with 1 Axes>"
      ]
     },
     "metadata": {},
     "output_type": "display_data"
    }
   ],
   "source": [
    "#This function graphs the scatter plots for both car crashes and week 2 gas prices\n",
    "def both_plot_scatter_w2(cols):\n",
    "    acc = 0\n",
    "    for x in range(len(cols)):\n",
    "        pyplot.scatter(cols[x],  gas_column_data[1][:len(car_column_data[1])])\n",
    "        pyplot.xlim(0)\n",
    "        pyplot.ylim(0)\n",
    "        pyplot.xlabel(car_titles[x])\n",
    "        pyplot.ylabel(gas_title[1])\n",
    "        pyplot.show()\n",
    "    acc +=1\n",
    "both_plot_scatter_w2(car_column_data)"
   ]
  },
  {
   "cell_type": "code",
   "execution_count": 54,
   "metadata": {},
   "outputs": [
    {
     "data": {
      "image/png": "[encoded data removed]",
      "text/plain": [
       "<Figure size 432x288 with 1 Axes>"
      ]
     },
     "metadata": {},
     "output_type": "display_data"
    },
    {
     "data": {
      "image/png": "[encoded data removed]",
      "text/plain": [
       "<Figure size 432x288 with 1 Axes>"
      ]
     },
     "metadata": {},
     "output_type": "display_data"
    },
    {
     "data": {
      "image/png": "[encoded data removed]",
      "text/plain": [
       "<Figure size 432x288 with 1 Axes>"
      ]
     },
     "metadata": {},
     "output_type": "display_data"
    },
    {
     "data": {
      "image/png": "[encoded data removed]",
      "text/plain": [
       "<Figure size 432x288 with 1 Axes>"
      ]
     },
     "metadata": {},
     "output_type": "display_data"
    },
    {
     "data": {
      "image/png": "[encoded data removed]",
      "text/plain": [
       "<Figure size 432x288 with 1 Axes>"
      ]
     },
     "metadata": {},
     "output_type": "display_data"
    },
    {
     "data": {
      "image/png": "[encoded data removed]",
      "text/plain": [
       "<Figure size 432x288 with 1 Axes>"
      ]
     },
     "metadata": {},
     "output_type": "display_data"
    }
   ],
   "source": [
    "#This function graphs the scatter plots for both car crashes and week 3 gas prices\n",
    "def both_plot_scatter_w3(cols):\n",
    "    acc = 0\n",
    "    for x in range(len(cols)):\n",
    "        pyplot.scatter(cols[x],  gas_column_data[2][:len(car_column_data[1])])\n",
    "        pyplot.xlim(0)\n",
    "        pyplot.ylim(0)\n",
    "        pyplot.xlabel(car_titles[x])\n",
    "        pyplot.ylabel(gas_title[2])\n",
    "        pyplot.show()\n",
    "    acc +=1\n",
    "both_plot_scatter_w3(car_column_data)"
   ]
  },
  {
   "cell_type": "code",
   "execution_count": 85,
   "metadata": {},
   "outputs": [
    {
     "data": {
      "image/png": "[encoded data removed]",
      "text/plain": [
       "<Figure size 432x288 with 1 Axes>"
      ]
     },
     "metadata": {},
     "output_type": "display_data"
    },
    {
     "data": {
      "image/png": "[encoded data removed]",
      "text/plain": [
       "<Figure size 432x288 with 1 Axes>"
      ]
     },
     "metadata": {},
     "output_type": "display_data"
    },
    {
     "data": {
      "image/png": "[encoded data removed]",
      "text/plain": [
       "<Figure size 432x288 with 1 Axes>"
      ]
     },
     "metadata": {},
     "output_type": "display_data"
    },
    {
     "data": {
      "image/png": "[encoded data removed]",
      "text/plain": [
       "<Figure size 432x288 with 1 Axes>"
      ]
     },
     "metadata": {},
     "output_type": "display_data"
    },
    {
     "data": {
      "image/png": "[encoded data removed]",
      "text/plain": [
       "<Figure size 432x288 with 1 Axes>"
      ]
     },
     "metadata": {},
     "output_type": "display_data"
    },
    {
     "data": {
      "image/png": "[encoded data removed]",
      "text/plain": [
       "<Figure size 432x288 with 1 Axes>"
      ]
     },
     "metadata": {},
     "output_type": "display_data"
    }
   ],
   "source": [
    "#This function graphs the scatter plots for both car crashes and week 4 gas prices\n",
    "def both_plot_scatter_w4(cols):\n",
    "    acc = 0\n",
    "    for x in range(len(cols)):\n",
    "        pyplot.scatter(cols[x],  gas_column_data[3][:len(car_column_data[1])])\n",
    "        pyplot.xlim(0)\n",
    "        pyplot.ylim(0)\n",
    "        pyplot.xlabel(car_titles[x])\n",
    "        pyplot.ylabel(gas_title[3])\n",
    "        pyplot.show()\n",
    "    acc +=1\n",
    "both_plot_scatter_w4(car_column_data)"
   ]
  },
  {
   "cell_type": "code",
   "execution_count": 56,
   "metadata": {},
   "outputs": [
    {
     "name": "stdout",
     "output_type": "stream",
     "text": [
      "Passenger vehicle occupants\n"
     ]
    },
    {
     "data": {
      "image/png": "[encoded data removed]",
      "text/plain": [
       "<Figure size 432x288 with 1 Axes>"
      ]
     },
     "metadata": {},
     "output_type": "display_data"
    },
    {
     "name": "stdout",
     "output_type": "stream",
     "text": [
      "Pedestrians\n"
     ]
    },
    {
     "data": {
      "image/png": "[encoded data removed]",
      "text/plain": [
       "<Figure size 432x288 with 1 Axes>"
      ]
     },
     "metadata": {},
     "output_type": "display_data"
    },
    {
     "name": "stdout",
     "output_type": "stream",
     "text": [
      "Motorcyclists\n"
     ]
    },
    {
     "data": {
      "image/png": "[encoded data removed]",
      "text/plain": [
       "<Figure size 432x288 with 1 Axes>"
      ]
     },
     "metadata": {},
     "output_type": "display_data"
    },
    {
     "name": "stdout",
     "output_type": "stream",
     "text": [
      "Bicyclists\n"
     ]
    },
    {
     "data": {
      "image/png": "[encoded data removed]",
      "text/plain": [
       "<Figure size 432x288 with 1 Axes>"
      ]
     },
     "metadata": {},
     "output_type": "display_data"
    },
    {
     "name": "stdout",
     "output_type": "stream",
     "text": [
      "Large truck occupants\n"
     ]
    },
    {
     "data": {
      "image/png": "[encoded data removed]",
      "text/plain": [
       "<Figure size 432x288 with 1 Axes>"
      ]
     },
     "metadata": {},
     "output_type": "display_data"
    },
    {
     "name": "stdout",
     "output_type": "stream",
     "text": [
      "All motor vehicle deaths*\n"
     ]
    },
    {
     "data": {
      "image/png": "[encoded data removed]",
      "text/plain": [
       "<Figure size 432x288 with 1 Axes>"
      ]
     },
     "metadata": {},
     "output_type": "display_data"
    }
   ],
   "source": [
    "#This function plots the histogram for car crashes \n",
    "for x in range(len(car_column_data)):\n",
    "    print(car_titles[x])\n",
    "    pyplot.hist(car_column_data[x], bins=20)\n",
    "    pyplot.show()\n",
    "\n",
    "# note: counts are on the y axis"
   ]
  },
  {
   "cell_type": "code",
   "execution_count": 57,
   "metadata": {},
   "outputs": [
    {
     "name": "stdout",
     "output_type": "stream",
     "text": [
      "Week 1\n"
     ]
    },
    {
     "data": {
      "image/png": "[encoded data removed]",
      "text/plain": [
       "<Figure size 432x288 with 1 Axes>"
      ]
     },
     "metadata": {},
     "output_type": "display_data"
    },
    {
     "name": "stdout",
     "output_type": "stream",
     "text": [
      "Week 2\n"
     ]
    },
    {
     "data": {
      "image/png": "[encoded data removed]",
      "text/plain": [
       "<Figure size 432x288 with 1 Axes>"
      ]
     },
     "metadata": {},
     "output_type": "display_data"
    },
    {
     "name": "stdout",
     "output_type": "stream",
     "text": [
      "Week 3\n"
     ]
    },
    {
     "data": {
      "image/png": "[encoded data removed]",
      "text/plain": [
       "<Figure size 432x288 with 1 Axes>"
      ]
     },
     "metadata": {},
     "output_type": "display_data"
    },
    {
     "name": "stdout",
     "output_type": "stream",
     "text": [
      "Week 4\n"
     ]
    },
    {
     "data": {
      "image/png": "[encoded data removed]",
      "text/plain": [
       "<Figure size 432x288 with 1 Axes>"
      ]
     },
     "metadata": {},
     "output_type": "display_data"
    }
   ],
   "source": [
    "#This function plots the histogram for gas prices\n",
    "for x in range(len(gas_column_data)):\n",
    "    print(gas_title[x])\n",
    "    pyplot.hist(gas_column_data[x], bins=20)\n",
    "    pyplot.show()"
   ]
  },
  {
   "cell_type": "code",
   "execution_count": 83,
   "metadata": {},
   "outputs": [
    {
     "name": "stdout",
     "output_type": "stream",
     "text": [
      "Gas price week 1 linear regressions with: \n",
      "Passenger vehicle occupants :-1.4301947867767141e-05\n",
      "Pedestrians :-4.547222265027114e-05\n",
      "Motorcyclists :1.0633827744951811e-05\n",
      "Bicyclists :-0.0005028057551034956\n",
      "Large truck occupants :-0.0002498140095505051\n",
      "All motor vehicle deaths* :-1.3336358603718249e-05\n",
      " \n",
      "Gas price week 2 linear regressions with: \n",
      "Passenger vehicle occupants :-1.4180237822177505e-05\n",
      "Pedestrians :-4.650533314702877e-05\n",
      "Motorcyclists :8.57267716503787e-06\n",
      "Bicyclists :-0.0005060366041044574\n",
      "Large truck occupants :-0.0002575219456201501\n",
      "All motor vehicle deaths* :-1.3421150251192473e-05\n",
      " \n",
      "Gas price week 3 linear regressions with: \n",
      "Passenger vehicle occupants :-1.468890583467263e-05\n",
      "Pedestrians :-4.78947258966886e-05\n",
      "Motorcyclists :9.064817260657356e-06\n",
      "Bicyclists :-0.0005223099837047339\n",
      "Large truck occupants :-0.00026866549525493316\n",
      "All motor vehicle deaths* :-1.3891972006404423e-05\n",
      " \n",
      "Gas price week 4 linear regressions with: \n",
      "Passenger vehicle occupants :-1.4799083722801587e-05\n",
      "Pedestrians :-4.8963245178837314e-05\n",
      "Motorcyclists :7.728393384124877e-06\n",
      "Bicyclists :-0.0005277852111547887\n",
      "Large truck occupants :-0.00027500731527139386\n",
      "All motor vehicle deaths* :-1.4100096826409795e-05\n",
      " \n"
     ]
    }
   ],
   "source": [
    "\n",
    "#This function converts the numbers in a column to a float.\n",
    "def convert(column):\n",
    "    conversion = []\n",
    "    for x in column:\n",
    "        conversion.append(float(x))\n",
    "    return conversion\n",
    "\n",
    "\n",
    "\n",
    "#This function converts the each item in a list into an array of floats\n",
    "def convert_car_nums(car_arry):\n",
    "    all_conversions = []\n",
    "    for x in car_arry:\n",
    "        all_conversions.append(convert(x))\n",
    "    return all_conversions\n",
    "car_nums_conversions = convert_car_nums(car_column_data)\n",
    "\n",
    "\n",
    "\n",
    "\n",
    "#This function finds the linear regression between car crashes and gas prices \n",
    "def calc_lin_reg(x_list, y_list):\n",
    "    for data_column in range(len(x_list)):\n",
    "        data = {\"X\": x_list[data_column], \"Y\": y_list}\n",
    "        dataframe = pd.DataFrame(data)\n",
    "\n",
    "        x = dataframe.X.values\n",
    "        y = dataframe.Y.values\n",
    "\n",
    "        x = x.reshape(-1, 1)\n",
    "        y = y.reshape(-1, 1)\n",
    "\n",
    "        model = linear_model.LinearRegression()\n",
    "        model.fit(x,y)\n",
    "        print(car_titles[data_column] + \" :\"+ str(float(model.coef_)))\n",
    "\n",
    "print(\"Gas price week 1 linear regressions with: \")\n",
    "short_w1 = gas_column_data[0][:len(car_column_data[1])]\n",
    "calc_lin_reg(car_nums_conversions, short_w1)\n",
    "print(\" \")\n",
    "\n",
    "print(\"Gas price week 2 linear regressions with: \")\n",
    "short_w2 = gas_column_data[1][:len(car_column_data[1])]\n",
    "calc_lin_reg(car_nums_conversions, short_w2)\n",
    "print(\" \")\n",
    "\n",
    "print(\"Gas price week 3 linear regressions with: \")\n",
    "short_w3 = gas_column_data[2][:len(car_column_data[1])]\n",
    "calc_lin_reg(car_nums_conversions, short_w3)\n",
    "print(\" \")\n",
    "\n",
    "print(\"Gas price week 4 linear regressions with: \")\n",
    "short_w4 = gas_column_data[3][:len(car_column_data[1])]\n",
    "calc_lin_reg(car_nums_conversions, short_w4)\n",
    "print(\" \")\n"
   ]
  },
  {
   "cell_type": "code",
   "execution_count": 107,
   "metadata": {},
   "outputs": [
    {
     "name": "stdout",
     "output_type": "stream",
     "text": [
      "Random regressions for car crash deaths with n=length of observations:\n",
      "Passenger vehicle occupants 2.2053962727015005e-06\n",
      "Pedestrians -6.006837803355932e-06\n",
      "Motorcyclists -3.19598875796499e-05\n",
      "Bicyclists -0.0010553038766398532\n",
      "Large truck occupants -0.0004055693078216237\n",
      "All motor vehicle deaths* -2.1738302675043948e-05\n",
      " \n",
      "Random regressions for car crash deaths with n=10:\n",
      "Passenger vehicle occupants 1.0962937841720932e-05\n",
      "Pedestrians 0.00019515140170188762\n",
      "Motorcyclists -0.00014233867444173083\n",
      "Bicyclists -0.00377250683260581\n",
      "Large truck occupants -7.192817336180478e-05\n",
      "All motor vehicle deaths* -1.1743254167220507e-05\n",
      " \n",
      "Random regressions for gas prices with n=length of observations:\n",
      "Week 1 0.023068044582146296\n",
      "Week 2 -0.03994077136658558\n",
      "Week 3 0.03238499540544222\n",
      "Week 4 0.00693087992413813\n",
      " \n",
      "Random regressions for gas prices with n=10:\n",
      "Week 1 0.0586002240310779\n",
      "Week 2 -0.029056097247403847\n",
      "Week 3 0.008013713663890988\n",
      "Week 4 0.02720143578537569\n"
     ]
    }
   ],
   "source": [
    "#This function rreturns the random regression for car crash deaths\n",
    "def car_random_regression(n, column):\n",
    "    y = []\n",
    "    for i in range(len(car_column_data[0])):\n",
    "        y.append(np.random.normal(0, 1))\n",
    "        \n",
    "    data = {\"x\": column, \"y\": y}\n",
    "    dataframe = pd.DataFrame(data)\n",
    "    x = dataframe.x.values\n",
    "    y = dataframe.y.values\n",
    "    \n",
    "    x = x.reshape(-1, 1)\n",
    "    y = y.reshape(-1, 1)\n",
    "    \n",
    "    model = linear_model.LinearRegression()\n",
    "    model.fit(x,y)\n",
    "    return float(model.coef_)\n",
    "print(\"Random regressions for car crash deaths with n=length of observations:\")\n",
    "for x in range(len(car_column_data)):\n",
    "    print(car_titles[x] + ' ' + str(car_random_regression(len(car_column_data[0]), car_column_data[x])))\n",
    "print(\" \")\n",
    "\n",
    "\n",
    "print(\"Random regressions for car crash deaths with n=10:\")\n",
    "for x in range(len(car_column_data)):\n",
    "    print(car_titles[x] + ' ' + str(car_random_regression(10, car_column_data[x])))\n",
    "print(\" \")\n",
    "    \n",
    "    \n",
    "\n",
    "#This function rreturns the random regression for gas prices\n",
    "def gas_random_regression(n, column):\n",
    "    y = []\n",
    "    for i in range(len(gas_column_data[0])):\n",
    "        y.append(np.random.normal(0, 1))\n",
    "        \n",
    "    data = {\"x\": column, \"y\": y}\n",
    "    dataframe = pd.DataFrame(data)\n",
    "    x = dataframe.x.values\n",
    "    y = dataframe.y.values\n",
    "    \n",
    "    x = x.reshape(-1, 1)\n",
    "    y = y.reshape(-1, 1)\n",
    "    \n",
    "    model = linear_model.LinearRegression()\n",
    "    model.fit(x,y)\n",
    "    return float(model.coef_)\n",
    "\n",
    "print(\"Random regressions for gas prices with n=length of observations:\")\n",
    "for x in range(len(gas_column_data)):\n",
    "    print(gas_title[x] + ' ' + str(gas_random_regression(len(gas_column_data[0]), gas_column_data[x])))\n",
    "print(\" \")\n",
    "\n",
    "\n",
    "print(\"Random regressions for gas prices with n=10:\")\n",
    "for x in range(len(gas_column_data)):\n",
    "    print(gas_title[x] + ' ' + str(gas_random_regression(10, gas_column_data[x])))\n"
   ]
  },
  {
   "cell_type": "code",
   "execution_count": null,
   "metadata": {},
   "outputs": [],
   "source": []
  }
 ],
 "metadata": {
  "kernelspec": {
   "display_name": "Python 3",
   "language": "python",
   "name": "python3"
  },
  "language_info": {
   "codemirror_mode": {
    "name": "ipython",
    "version": 3
   },
   "file_extension": ".py",
   "mimetype": "text/x-python",
   "name": "python",
   "nbconvert_exporter": "python",
   "pygments_lexer": "ipython3",
   "version": "3.6.8"
  }
 },
 "nbformat": 4,
 "nbformat_minor": 2
}
