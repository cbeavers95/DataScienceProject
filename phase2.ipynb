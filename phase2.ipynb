{
 "cells": [
  {
   "cell_type": "markdown",
   "metadata": {},
   "source": [
    "Data description. This should be inspired by the format presented in Gebru et al, 2018. Answer the following questions:\n",
    "What are the observations (rows) and the attributes (columns)?\n",
    "Why was this dataset created?\n",
    "Who funded the creation of the dataset?\n",
    "What processes might have influenced what data was observed and recorded and what was not?\n",
    "What preprocessing was done, and how did the data come to be in the form that you are using?\n",
    "If people are involved, were they aware of the data collection and if so, what purpose did they expect the data to be used for?\n",
    "Where can your raw source data be found, if applicable? Provide a link to the raw data (hosted in a Cornell Google Drive or Cornell Box). "
   ]
  },
  {
   "cell_type": "markdown",
   "metadata": {},
   "source": [
    "Settle on a single idea and carry out most of your data collection.\n",
    "Submit an executed Jupyter notebook (.ipynb) file on CMS where you identify any potential problems with your dataset. Have an initial draft of your data description section."
   ]
  },
  {
   "cell_type": "markdown",
   "metadata": {},
   "source": [
    "**Data Description:** \n",
    "\n",
    "\n",
    "Data Set 1 - Car Fatalities ; \n",
    "Data Set 2 - Gas Prices\n",
    "\n",
    "\n",
    "\n",
    "**What are the observations (rows) and the attributes (columns)?**\n",
    "1 - In the dataset regarding car crash fatalities across various decades, the attributes are passenger, pedestrian, bycylist, and total fatalities. The observations are the number of fatalities per year between 1975 and 2018. \n",
    "\n",
    "2 - In the data sata regarding gas prices, the attributes are each week in a month (week 1, week 2, week 3, and week 4). The observations are gas prices in US dollars per each week in each month between the years 1993 and 2022.\n",
    "\n",
    "**Why was this dataset created? Who funded the creation of the dataset?**\n",
    "\n",
    "1 - The U.S. Department of Transportation funded the creation of the dataset. This data set was created to sum averages and anaylze potential patterns of car crash fatalities (by car type, individual type, etc.) over the span of multiple decades. \n",
    "\n",
    "2 - This data was funded and created by the U.S. Energy Information Administration to track and analyze the fluctuation in gas prices, beginning in 1993 up to modern day. \n",
    "\n",
    "\n",
    "**What processes might have influenced what data was observed and recorded and what was not?**\n",
    "1 - Processes that might have influenced what data was observed and recorded and what was not includes: reported accidents vs unreported accidents, immediate vs delayed faltities, and accidents submmit to the Department of Transportations vs those that were not. \n",
    "\n",
    "2 - Processes that might have influenced what data was observed and recorded and what was not includes: inclusions and exclusion of all gas prices in states, cities, and inidivual gas stations. \n",
    "\n",
    "**What preprocessing was done, and how did the data come to be in the form that you are using?**\n",
    "\n",
    "1 - The U.S. Department of transportation conducted a census and appointed researchers to sort and analyze the data types. The sorting caused the data to come to be in the form I am using: fatalities quanitfied by thousands and crash type. \n",
    "\n",
    "2 - The source does not explicity detail the processing of how the data was accumulated. Though is has been arranged in the form broken into multiple segments: each week per month between 1993 and present day.\n",
    "\n",
    "**Where can your raw source data be found, if applicable?**\n",
    "1 - The most raw data can be found on: https://www-fars.nhtsa.dot.gov/Main/index.aspx . Though, the data source being used can be found on: https://www.iihs.org/topics/fatality-statistics/detail/yearly-snapshot .\n",
    " \n",
    "2 - The raw data can be found on: https://www.eia.gov/dnav/pet/hist/LeafHandler.ashx?n=PET&s=EMM_EPM0_PTE_NUS_DPG&f=W \n",
    "\n"
   ]
  },
  {
   "cell_type": "markdown",
   "metadata": {},
   "source": [
    "**Potential Problems with Your Dataset**\n",
    "\n",
    "\n",
    "Potential problems with my dataset include:\n",
    "- Disproportionate data in comparision with one other \n",
    "- "
   ]
  },
  {
   "cell_type": "code",
   "execution_count": null,
   "metadata": {},
   "outputs": [],
   "source": []
  }
 ],
 "metadata": {
  "kernelspec": {
   "display_name": "Python 3",
   "language": "python",
   "name": "python3"
  },
  "language_info": {
   "codemirror_mode": {
    "name": "ipython",
    "version": 3
   },
   "file_extension": ".py",
   "mimetype": "text/x-python",
   "name": "python",
   "nbconvert_exporter": "python",
   "pygments_lexer": "ipython3",
   "version": "3.6.8"
  }
 },
 "nbformat": 4,
 "nbformat_minor": 2
}
